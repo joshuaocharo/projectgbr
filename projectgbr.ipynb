{
 "cells": [
  {
   "cell_type": "code",
   "execution_count": 6,
   "metadata": {},
   "outputs": [],
   "source": [
    "import pandas as pd\n",
    "import os\n",
    "import numpy as np\n",
    "import matplotlib.pyplot as plt\n",
    "from pycaret.regression import *"
   ]
  },
  {
   "cell_type": "code",
   "execution_count": 7,
   "metadata": {},
   "outputs": [
    {
     "data": {
      "text/plain": [
       "'C:\\\\Users\\\\joshu\\\\OneDrive\\\\Desktop\\\\progress'"
      ]
     },
     "execution_count": 7,
     "metadata": {},
     "output_type": "execute_result"
    }
   ],
   "source": [
    "pwd"
   ]
  },
  {
   "cell_type": "code",
   "execution_count": 8,
   "metadata": {
    "scrolled": true
   },
   "outputs": [
    {
     "data": {
      "text/html": [
       "<div>\n",
       "<style scoped>\n",
       "    .dataframe tbody tr th:only-of-type {\n",
       "        vertical-align: middle;\n",
       "    }\n",
       "\n",
       "    .dataframe tbody tr th {\n",
       "        vertical-align: top;\n",
       "    }\n",
       "\n",
       "    .dataframe thead th {\n",
       "        text-align: right;\n",
       "    }\n",
       "</style>\n",
       "<table border=\"1\" class=\"dataframe\">\n",
       "  <thead>\n",
       "    <tr style=\"text-align: right;\">\n",
       "      <th></th>\n",
       "      <th>age</th>\n",
       "      <th>sex</th>\n",
       "      <th>bmi</th>\n",
       "      <th>children</th>\n",
       "      <th>smoker</th>\n",
       "      <th>region</th>\n",
       "      <th>charges</th>\n",
       "    </tr>\n",
       "  </thead>\n",
       "  <tbody>\n",
       "    <tr>\n",
       "      <th>0</th>\n",
       "      <td>43</td>\n",
       "      <td>male</td>\n",
       "      <td>32.600</td>\n",
       "      <td>2</td>\n",
       "      <td>no</td>\n",
       "      <td>other</td>\n",
       "      <td>74415.0100</td>\n",
       "    </tr>\n",
       "    <tr>\n",
       "      <th>1</th>\n",
       "      <td>52</td>\n",
       "      <td>female</td>\n",
       "      <td>37.525</td>\n",
       "      <td>2</td>\n",
       "      <td>no</td>\n",
       "      <td>kisumu</td>\n",
       "      <td>334719.7189</td>\n",
       "    </tr>\n",
       "    <tr>\n",
       "      <th>2</th>\n",
       "      <td>18</td>\n",
       "      <td>female</td>\n",
       "      <td>39.160</td>\n",
       "      <td>0</td>\n",
       "      <td>no</td>\n",
       "      <td>nairobi</td>\n",
       "      <td>16330.4440</td>\n",
       "    </tr>\n",
       "    <tr>\n",
       "      <th>3</th>\n",
       "      <td>51</td>\n",
       "      <td>male</td>\n",
       "      <td>31.635</td>\n",
       "      <td>0</td>\n",
       "      <td>no</td>\n",
       "      <td>kisumu</td>\n",
       "      <td>91741.3565</td>\n",
       "    </tr>\n",
       "    <tr>\n",
       "      <th>4</th>\n",
       "      <td>56</td>\n",
       "      <td>female</td>\n",
       "      <td>25.300</td>\n",
       "      <td>0</td>\n",
       "      <td>no</td>\n",
       "      <td>other</td>\n",
       "      <td>110705.3500</td>\n",
       "    </tr>\n",
       "  </tbody>\n",
       "</table>\n",
       "</div>"
      ],
      "text/plain": [
       "   age     sex     bmi  children smoker   region      charges\n",
       "0   43    male  32.600         2     no    other   74415.0100\n",
       "1   52  female  37.525         2     no   kisumu  334719.7189\n",
       "2   18  female  39.160         0     no  nairobi   16330.4440\n",
       "3   51    male  31.635         0     no   kisumu   91741.3565\n",
       "4   56  female  25.300         0     no    other  110705.3500"
      ]
     },
     "execution_count": 8,
     "metadata": {},
     "output_type": "execute_result"
    }
   ],
   "source": [
    "#Loading dataset\n",
    "df = pd.read_csv('C:/Users/joshu/OneDrive/Desktop/progress/insurance.csv')\n",
    "df.head()"
   ]
  },
  {
   "cell_type": "code",
   "execution_count": 9,
   "metadata": {},
   "outputs": [
    {
     "name": "stdout",
     "output_type": "stream",
     "text": [
      "<class 'pandas.core.frame.DataFrame'>\n",
      "RangeIndex: 1000 entries, 0 to 999\n",
      "Data columns (total 7 columns):\n",
      " #   Column    Non-Null Count  Dtype  \n",
      "---  ------    --------------  -----  \n",
      " 0   age       1000 non-null   int64  \n",
      " 1   sex       1000 non-null   object \n",
      " 2   bmi       1000 non-null   float64\n",
      " 3   children  1000 non-null   int64  \n",
      " 4   smoker    1000 non-null   object \n",
      " 5   region    1000 non-null   object \n",
      " 6   charges   1000 non-null   float64\n",
      "dtypes: float64(2), int64(2), object(3)\n",
      "memory usage: 54.8+ KB\n"
     ]
    }
   ],
   "source": [
    "# Detail of columns\n",
    "df.info()"
   ]
  },
  {
   "cell_type": "code",
   "execution_count": 10,
   "metadata": {},
   "outputs": [
    {
     "name": "stdout",
     "output_type": "stream",
     "text": [
      "rows: 1000   columns: 7\n"
     ]
    }
   ],
   "source": [
    "print('rows:', df.shape[0],\" \",'columns:', df.shape[1]) "
   ]
  },
  {
   "cell_type": "code",
   "execution_count": 11,
   "metadata": {},
   "outputs": [
    {
     "data": {
      "text/html": [
       "<div>\n",
       "<style scoped>\n",
       "    .dataframe tbody tr th:only-of-type {\n",
       "        vertical-align: middle;\n",
       "    }\n",
       "\n",
       "    .dataframe tbody tr th {\n",
       "        vertical-align: top;\n",
       "    }\n",
       "\n",
       "    .dataframe thead th {\n",
       "        text-align: right;\n",
       "    }\n",
       "</style>\n",
       "<table border=\"1\" class=\"dataframe\">\n",
       "  <thead>\n",
       "    <tr style=\"text-align: right;\">\n",
       "      <th></th>\n",
       "      <th>count</th>\n",
       "      <th>mean</th>\n",
       "      <th>std</th>\n",
       "      <th>min</th>\n",
       "      <th>25%</th>\n",
       "      <th>50%</th>\n",
       "      <th>75%</th>\n",
       "      <th>max</th>\n",
       "    </tr>\n",
       "  </thead>\n",
       "  <tbody>\n",
       "    <tr>\n",
       "      <th>age</th>\n",
       "      <td>1000.0</td>\n",
       "      <td>39.608000</td>\n",
       "      <td>14.157428</td>\n",
       "      <td>18.000</td>\n",
       "      <td>27.000000</td>\n",
       "      <td>40.000</td>\n",
       "      <td>52.000000</td>\n",
       "      <td>64.0000</td>\n",
       "    </tr>\n",
       "    <tr>\n",
       "      <th>bmi</th>\n",
       "      <td>1000.0</td>\n",
       "      <td>30.875325</td>\n",
       "      <td>6.051370</td>\n",
       "      <td>15.960</td>\n",
       "      <td>26.600000</td>\n",
       "      <td>30.590</td>\n",
       "      <td>35.162500</td>\n",
       "      <td>50.3800</td>\n",
       "    </tr>\n",
       "    <tr>\n",
       "      <th>children</th>\n",
       "      <td>1000.0</td>\n",
       "      <td>1.083000</td>\n",
       "      <td>1.199813</td>\n",
       "      <td>0.000</td>\n",
       "      <td>0.000000</td>\n",
       "      <td>1.000</td>\n",
       "      <td>2.000000</td>\n",
       "      <td>5.0000</td>\n",
       "    </tr>\n",
       "    <tr>\n",
       "      <th>charges</th>\n",
       "      <td>1000.0</td>\n",
       "      <td>130730.571935</td>\n",
       "      <td>119879.879412</td>\n",
       "      <td>11218.739</td>\n",
       "      <td>47115.922875</td>\n",
       "      <td>92830.213</td>\n",
       "      <td>158827.954375</td>\n",
       "      <td>637704.2801</td>\n",
       "    </tr>\n",
       "  </tbody>\n",
       "</table>\n",
       "</div>"
      ],
      "text/plain": [
       "           count           mean            std        min           25%  \\\n",
       "age       1000.0      39.608000      14.157428     18.000     27.000000   \n",
       "bmi       1000.0      30.875325       6.051370     15.960     26.600000   \n",
       "children  1000.0       1.083000       1.199813      0.000      0.000000   \n",
       "charges   1000.0  130730.571935  119879.879412  11218.739  47115.922875   \n",
       "\n",
       "                50%            75%          max  \n",
       "age          40.000      52.000000      64.0000  \n",
       "bmi          30.590      35.162500      50.3800  \n",
       "children      1.000       2.000000       5.0000  \n",
       "charges   92830.213  158827.954375  637704.2801  "
      ]
     },
     "execution_count": 11,
     "metadata": {},
     "output_type": "execute_result"
    }
   ],
   "source": [
    "df.describe().T"
   ]
  },
  {
   "cell_type": "code",
   "execution_count": 12,
   "metadata": {
    "scrolled": false
   },
   "outputs": [
    {
     "data": {
      "text/html": [
       "<div>\n",
       "<style scoped>\n",
       "    .dataframe tbody tr th:only-of-type {\n",
       "        vertical-align: middle;\n",
       "    }\n",
       "\n",
       "    .dataframe tbody tr th {\n",
       "        vertical-align: top;\n",
       "    }\n",
       "\n",
       "    .dataframe thead th {\n",
       "        text-align: right;\n",
       "    }\n",
       "</style>\n",
       "<table border=\"1\" class=\"dataframe\">\n",
       "  <thead>\n",
       "    <tr style=\"text-align: right;\">\n",
       "      <th></th>\n",
       "      <th>count</th>\n",
       "      <th>unique</th>\n",
       "      <th>top</th>\n",
       "      <th>freq</th>\n",
       "    </tr>\n",
       "  </thead>\n",
       "  <tbody>\n",
       "    <tr>\n",
       "      <th>sex</th>\n",
       "      <td>1000</td>\n",
       "      <td>2</td>\n",
       "      <td>male</td>\n",
       "      <td>505</td>\n",
       "    </tr>\n",
       "    <tr>\n",
       "      <th>smoker</th>\n",
       "      <td>1000</td>\n",
       "      <td>2</td>\n",
       "      <td>no</td>\n",
       "      <td>804</td>\n",
       "    </tr>\n",
       "    <tr>\n",
       "      <th>region</th>\n",
       "      <td>1000</td>\n",
       "      <td>4</td>\n",
       "      <td>nairobi</td>\n",
       "      <td>279</td>\n",
       "    </tr>\n",
       "  </tbody>\n",
       "</table>\n",
       "</div>"
      ],
      "text/plain": [
       "       count unique      top freq\n",
       "sex     1000      2     male  505\n",
       "smoker  1000      2       no  804\n",
       "region  1000      4  nairobi  279"
      ]
     },
     "execution_count": 12,
     "metadata": {},
     "output_type": "execute_result"
    }
   ],
   "source": [
    "df.describe(include=['object']).T"
   ]
  },
  {
   "cell_type": "code",
   "execution_count": 13,
   "metadata": {},
   "outputs": [
    {
     "ename": "NameError",
     "evalue": "name 'sns' is not defined",
     "output_type": "error",
     "traceback": [
      "\u001b[1;31m---------------------------------------------------------------------------\u001b[0m",
      "\u001b[1;31mNameError\u001b[0m                                 Traceback (most recent call last)",
      "\u001b[1;32m<ipython-input-13-f2deef1baf42>\u001b[0m in \u001b[0;36m<module>\u001b[1;34m\u001b[0m\n\u001b[0;32m      1\u001b[0m \u001b[0mcharges\u001b[0m \u001b[1;33m=\u001b[0m \u001b[0mdf\u001b[0m\u001b[1;33m[\u001b[0m\u001b[1;34m'charges'\u001b[0m\u001b[1;33m]\u001b[0m\u001b[1;33m.\u001b[0m\u001b[0mgroupby\u001b[0m\u001b[1;33m(\u001b[0m\u001b[0mdf\u001b[0m\u001b[1;33m.\u001b[0m\u001b[0mregion\u001b[0m\u001b[1;33m)\u001b[0m\u001b[1;33m.\u001b[0m\u001b[0msum\u001b[0m\u001b[1;33m(\u001b[0m\u001b[1;33m)\u001b[0m\u001b[1;33m.\u001b[0m\u001b[0msort_values\u001b[0m\u001b[1;33m(\u001b[0m\u001b[0mascending\u001b[0m \u001b[1;33m=\u001b[0m \u001b[1;32mTrue\u001b[0m\u001b[1;33m)\u001b[0m\u001b[1;33m\u001b[0m\u001b[1;33m\u001b[0m\u001b[0m\n\u001b[0;32m      2\u001b[0m \u001b[0mf\u001b[0m\u001b[1;33m,\u001b[0m \u001b[0max\u001b[0m \u001b[1;33m=\u001b[0m \u001b[0mplt\u001b[0m\u001b[1;33m.\u001b[0m\u001b[0msubplots\u001b[0m\u001b[1;33m(\u001b[0m\u001b[1;36m1\u001b[0m\u001b[1;33m,\u001b[0m \u001b[1;36m1\u001b[0m\u001b[1;33m,\u001b[0m \u001b[0mfigsize\u001b[0m \u001b[1;33m=\u001b[0m \u001b[1;33m(\u001b[0m\u001b[1;36m8\u001b[0m\u001b[1;33m,\u001b[0m\u001b[1;36m6\u001b[0m\u001b[1;33m)\u001b[0m\u001b[1;33m)\u001b[0m\u001b[1;33m\u001b[0m\u001b[1;33m\u001b[0m\u001b[0m\n\u001b[1;32m----> 3\u001b[1;33m \u001b[0max\u001b[0m \u001b[1;33m=\u001b[0m \u001b[0msns\u001b[0m\u001b[1;33m.\u001b[0m\u001b[0mbarplot\u001b[0m\u001b[1;33m(\u001b[0m\u001b[0mx\u001b[0m \u001b[1;33m=\u001b[0m \u001b[0mcharges\u001b[0m\u001b[1;33m.\u001b[0m\u001b[0mhead\u001b[0m\u001b[1;33m(\u001b[0m\u001b[1;33m)\u001b[0m\u001b[1;33m.\u001b[0m\u001b[0mindex\u001b[0m\u001b[1;33m,\u001b[0m \u001b[0my\u001b[0m \u001b[1;33m=\u001b[0m \u001b[0mcharges\u001b[0m\u001b[1;33m.\u001b[0m\u001b[0mhead\u001b[0m\u001b[1;33m(\u001b[0m\u001b[1;33m)\u001b[0m\u001b[1;33m)\u001b[0m\u001b[1;33m\u001b[0m\u001b[1;33m\u001b[0m\u001b[0m\n\u001b[0m",
      "\u001b[1;31mNameError\u001b[0m: name 'sns' is not defined"
     ]
    },
    {
     "data": {
      "image/png": "[encoded data removed]",
      "text/plain": [
       "<Figure size 576x432 with 1 Axes>"
      ]
     },
     "metadata": {
      "needs_background": "light"
     },
     "output_type": "display_data"
    }
   ],
   "source": [
    "charges = df['charges'].groupby(df.region).sum().sort_values(ascending = True)\n",
    "f, ax = plt.subplots(1, 1, figsize = (8,6))\n",
    "ax = sns.barplot(x = charges.head().index, y = charges.head())"
   ]
  },
  {
   "cell_type": "code",
   "execution_count": 14,
   "metadata": {},
   "outputs": [
    {
     "ename": "NameError",
     "evalue": "name 'sns' is not defined",
     "output_type": "error",
     "traceback": [
      "\u001b[1;31m---------------------------------------------------------------------------\u001b[0m",
      "\u001b[1;31mNameError\u001b[0m                                 Traceback (most recent call last)",
      "\u001b[1;32m<ipython-input-14-f941376f977b>\u001b[0m in \u001b[0;36m<module>\u001b[1;34m\u001b[0m\n\u001b[0;32m      1\u001b[0m \u001b[0mplt\u001b[0m\u001b[1;33m.\u001b[0m\u001b[0mfigure\u001b[0m\u001b[1;33m(\u001b[0m\u001b[0mfigsize\u001b[0m \u001b[1;33m=\u001b[0m \u001b[1;33m(\u001b[0m\u001b[1;36m12\u001b[0m\u001b[1;33m,\u001b[0m\u001b[1;36m5\u001b[0m\u001b[1;33m)\u001b[0m\u001b[1;33m)\u001b[0m\u001b[1;33m\u001b[0m\u001b[1;33m\u001b[0m\u001b[0m\n\u001b[0;32m      2\u001b[0m \u001b[0mplt\u001b[0m\u001b[1;33m.\u001b[0m\u001b[0msubplot\u001b[0m\u001b[1;33m(\u001b[0m\u001b[1;36m121\u001b[0m\u001b[1;33m)\u001b[0m\u001b[1;33m\u001b[0m\u001b[1;33m\u001b[0m\u001b[0m\n\u001b[1;32m----> 3\u001b[1;33m \u001b[0msns\u001b[0m\u001b[1;33m.\u001b[0m\u001b[0mdistplot\u001b[0m\u001b[1;33m(\u001b[0m\u001b[0mdf\u001b[0m\u001b[1;33m.\u001b[0m\u001b[0mcharges\u001b[0m\u001b[1;33m,\u001b[0m \u001b[0mcolor\u001b[0m \u001b[1;33m=\u001b[0m \u001b[1;34m'b'\u001b[0m\u001b[1;33m)\u001b[0m\u001b[1;33m\u001b[0m\u001b[1;33m\u001b[0m\u001b[0m\n\u001b[0m",
      "\u001b[1;31mNameError\u001b[0m: name 'sns' is not defined"
     ]
    },
    {
     "data": {
      "image/png": "[encoded data removed]",
      "text/plain": [
       "<Figure size 864x360 with 1 Axes>"
      ]
     },
     "metadata": {
      "needs_background": "light"
     },
     "output_type": "display_data"
    }
   ],
   "source": [
    "plt.figure(figsize = (12,5))\n",
    "plt.subplot(121)\n",
    "sns.distplot(df.charges, color = 'b')"
   ]
  },
  {
   "cell_type": "code",
   "execution_count": 15,
   "metadata": {},
   "outputs": [
    {
     "ename": "NameError",
     "evalue": "name 'sns' is not defined",
     "output_type": "error",
     "traceback": [
      "\u001b[1;31m---------------------------------------------------------------------------\u001b[0m",
      "\u001b[1;31mNameError\u001b[0m                                 Traceback (most recent call last)",
      "\u001b[1;32m<ipython-input-15-dc542f3b4876>\u001b[0m in \u001b[0;36m<module>\u001b[1;34m\u001b[0m\n\u001b[0;32m      1\u001b[0m \u001b[0mplt\u001b[0m\u001b[1;33m.\u001b[0m\u001b[0mfigure\u001b[0m\u001b[1;33m(\u001b[0m\u001b[0mfigsize\u001b[0m \u001b[1;33m=\u001b[0m \u001b[1;33m(\u001b[0m\u001b[1;36m12\u001b[0m\u001b[1;33m,\u001b[0m\u001b[1;36m5\u001b[0m\u001b[1;33m)\u001b[0m\u001b[1;33m)\u001b[0m\u001b[1;33m\u001b[0m\u001b[1;33m\u001b[0m\u001b[0m\n\u001b[0;32m      2\u001b[0m \u001b[0mplt\u001b[0m\u001b[1;33m.\u001b[0m\u001b[0msubplot\u001b[0m\u001b[1;33m(\u001b[0m\u001b[1;36m121\u001b[0m\u001b[1;33m)\u001b[0m\u001b[1;33m\u001b[0m\u001b[1;33m\u001b[0m\u001b[0m\n\u001b[1;32m----> 3\u001b[1;33m \u001b[0msns\u001b[0m\u001b[1;33m.\u001b[0m\u001b[0mdistplot\u001b[0m\u001b[1;33m(\u001b[0m\u001b[0mdf\u001b[0m\u001b[1;33m.\u001b[0m\u001b[0mage\u001b[0m\u001b[1;33m,\u001b[0m \u001b[0mcolor\u001b[0m \u001b[1;33m=\u001b[0m \u001b[1;34m'b'\u001b[0m\u001b[1;33m)\u001b[0m\u001b[1;33m.\u001b[0m\u001b[0mset_title\u001b[0m\u001b[1;33m(\u001b[0m\u001b[1;34m'Distribution of age'\u001b[0m\u001b[1;33m)\u001b[0m\u001b[1;33m\u001b[0m\u001b[1;33m\u001b[0m\u001b[0m\n\u001b[0m\u001b[0;32m      4\u001b[0m \u001b[1;33m\u001b[0m\u001b[0m\n\u001b[0;32m      5\u001b[0m \u001b[0mplt\u001b[0m\u001b[1;33m.\u001b[0m\u001b[0msubplot\u001b[0m\u001b[1;33m(\u001b[0m\u001b[1;36m122\u001b[0m\u001b[1;33m)\u001b[0m\u001b[1;33m\u001b[0m\u001b[1;33m\u001b[0m\u001b[0m\n",
      "\u001b[1;31mNameError\u001b[0m: name 'sns' is not defined"
     ]
    },
    {
     "data": {
      "image/png": "[encoded data removed]",
      "text/plain": [
       "<Figure size 864x360 with 1 Axes>"
      ]
     },
     "metadata": {
      "needs_background": "light"
     },
     "output_type": "display_data"
    }
   ],
   "source": [
    "plt.figure(figsize = (12,5))\n",
    "plt.subplot(121)\n",
    "sns.distplot(df.age, color = 'b').set_title('Distribution of age')\n",
    "\n",
    "plt.subplot(122)\n",
    "sns.distplot(df.bmi, color = 'b').set_title('Distribution of BMI')"
   ]
  },
  {
   "cell_type": "code",
   "execution_count": 16,
   "metadata": {},
   "outputs": [
    {
     "ename": "NameError",
     "evalue": "name 'sns' is not defined",
     "output_type": "error",
     "traceback": [
      "\u001b[1;31m---------------------------------------------------------------------------\u001b[0m",
      "\u001b[1;31mNameError\u001b[0m                                 Traceback (most recent call last)",
      "\u001b[1;32m<ipython-input-16-81a093d2c092>\u001b[0m in \u001b[0;36m<module>\u001b[1;34m\u001b[0m\n\u001b[0;32m      1\u001b[0m \u001b[0mplt\u001b[0m\u001b[1;33m.\u001b[0m\u001b[0mfigure\u001b[0m \u001b[1;33m(\u001b[0m\u001b[0mfigsize\u001b[0m \u001b[1;33m=\u001b[0m \u001b[1;33m(\u001b[0m\u001b[1;36m25\u001b[0m\u001b[1;33m,\u001b[0m\u001b[1;36m10\u001b[0m\u001b[1;33m)\u001b[0m\u001b[1;33m)\u001b[0m\u001b[1;33m\u001b[0m\u001b[1;33m\u001b[0m\u001b[0m\n\u001b[0;32m      2\u001b[0m \u001b[0mplt\u001b[0m\u001b[1;33m.\u001b[0m\u001b[0msubplot\u001b[0m\u001b[1;33m(\u001b[0m\u001b[1;36m2\u001b[0m\u001b[1;33m,\u001b[0m\u001b[1;36m2\u001b[0m\u001b[1;33m,\u001b[0m\u001b[1;36m1\u001b[0m\u001b[1;33m)\u001b[0m\u001b[1;33m\u001b[0m\u001b[1;33m\u001b[0m\u001b[0m\n\u001b[1;32m----> 3\u001b[1;33m \u001b[0msns\u001b[0m\u001b[1;33m.\u001b[0m\u001b[0mboxplot\u001b[0m\u001b[1;33m(\u001b[0m\u001b[0mx\u001b[0m \u001b[1;33m=\u001b[0m \u001b[1;34m'region'\u001b[0m\u001b[1;33m,\u001b[0m \u001b[0my\u001b[0m \u001b[1;33m=\u001b[0m \u001b[1;34m'charges'\u001b[0m\u001b[1;33m,\u001b[0m \u001b[0mdata\u001b[0m \u001b[1;33m=\u001b[0m \u001b[0mdf\u001b[0m\u001b[1;33m)\u001b[0m\u001b[1;33m\u001b[0m\u001b[1;33m\u001b[0m\u001b[0m\n\u001b[0m\u001b[0;32m      4\u001b[0m \u001b[1;33m\u001b[0m\u001b[0m\n\u001b[0;32m      5\u001b[0m \u001b[0mplt\u001b[0m\u001b[1;33m.\u001b[0m\u001b[0msubplot\u001b[0m\u001b[1;33m(\u001b[0m\u001b[1;36m2\u001b[0m\u001b[1;33m,\u001b[0m\u001b[1;36m2\u001b[0m\u001b[1;33m,\u001b[0m\u001b[1;36m2\u001b[0m\u001b[1;33m)\u001b[0m\u001b[1;33m\u001b[0m\u001b[1;33m\u001b[0m\u001b[0m\n",
      "\u001b[1;31mNameError\u001b[0m: name 'sns' is not defined"
     ]
    },
    {
     "data": {
      "image/png": "[encoded data removed]",
      "text/plain": [
       "<Figure size 1800x720 with 1 Axes>"
      ]
     },
     "metadata": {
      "needs_background": "light"
     },
     "output_type": "display_data"
    }
   ],
   "source": [
    "plt.figure (figsize = (25,10))\n",
    "plt.subplot(2,2,1)\n",
    "sns.boxplot(x = 'region', y = 'charges', data = df)\n",
    "\n",
    "plt.subplot(2,2,2)\n",
    "sns.boxplot(x = 'children', y = 'charges', data = df)\n",
    "\n",
    "plt.subplot(2,2,3)\n",
    "sns.boxplot(x = 'sex', y = 'charges', data = df)\n",
    "\n",
    "plt.subplot(2,2,4)\n",
    "sns.boxplot(x = 'smoker', y = 'charges', data = df)"
   ]
  },
  {
   "cell_type": "code",
   "execution_count": 17,
   "metadata": {},
   "outputs": [
    {
     "ename": "NameError",
     "evalue": "name 'sns' is not defined",
     "output_type": "error",
     "traceback": [
      "\u001b[1;31m---------------------------------------------------------------------------\u001b[0m",
      "\u001b[1;31mNameError\u001b[0m                                 Traceback (most recent call last)",
      "\u001b[1;32m<ipython-input-17-5255e798e293>\u001b[0m in \u001b[0;36m<module>\u001b[1;34m\u001b[0m\n\u001b[1;32m----> 1\u001b[1;33m \u001b[0max\u001b[0m \u001b[1;33m=\u001b[0m \u001b[0msns\u001b[0m\u001b[1;33m.\u001b[0m\u001b[0mlmplot\u001b[0m\u001b[1;33m(\u001b[0m\u001b[0mx\u001b[0m \u001b[1;33m=\u001b[0m \u001b[1;34m'age'\u001b[0m\u001b[1;33m,\u001b[0m \u001b[0my\u001b[0m \u001b[1;33m=\u001b[0m \u001b[1;34m'charges'\u001b[0m\u001b[1;33m,\u001b[0m \u001b[0mdata\u001b[0m \u001b[1;33m=\u001b[0m \u001b[0mdf\u001b[0m\u001b[1;33m,\u001b[0m \u001b[0mhue\u001b[0m \u001b[1;33m=\u001b[0m \u001b[1;34m'smoker'\u001b[0m\u001b[1;33m,\u001b[0m \u001b[0mpalette\u001b[0m \u001b[1;33m=\u001b[0m \u001b[1;34m'Set1'\u001b[0m\u001b[1;33m)\u001b[0m\u001b[1;33m\u001b[0m\u001b[1;33m\u001b[0m\u001b[0m\n\u001b[0m\u001b[0;32m      2\u001b[0m \u001b[0mplt\u001b[0m\u001b[1;33m.\u001b[0m\u001b[0mtitle\u001b[0m\u001b[1;33m(\u001b[0m\u001b[1;34m'Age vs Medical Charges'\u001b[0m\u001b[1;33m)\u001b[0m\u001b[1;33m\u001b[0m\u001b[1;33m\u001b[0m\u001b[0m\n\u001b[0;32m      3\u001b[0m \u001b[1;33m\u001b[0m\u001b[0m\n\u001b[0;32m      4\u001b[0m \u001b[0max\u001b[0m \u001b[1;33m=\u001b[0m \u001b[0msns\u001b[0m\u001b[1;33m.\u001b[0m\u001b[0mlmplot\u001b[0m\u001b[1;33m(\u001b[0m\u001b[0mx\u001b[0m \u001b[1;33m=\u001b[0m \u001b[1;34m'bmi'\u001b[0m\u001b[1;33m,\u001b[0m \u001b[0my\u001b[0m \u001b[1;33m=\u001b[0m \u001b[1;34m'charges'\u001b[0m\u001b[1;33m,\u001b[0m \u001b[0mdata\u001b[0m \u001b[1;33m=\u001b[0m \u001b[0mdf\u001b[0m\u001b[1;33m,\u001b[0m \u001b[0mhue\u001b[0m \u001b[1;33m=\u001b[0m \u001b[1;34m'smoker'\u001b[0m\u001b[1;33m,\u001b[0m \u001b[0mpalette\u001b[0m \u001b[1;33m=\u001b[0m \u001b[1;34m'Set1'\u001b[0m\u001b[1;33m)\u001b[0m\u001b[1;33m\u001b[0m\u001b[1;33m\u001b[0m\u001b[0m\n\u001b[0;32m      5\u001b[0m \u001b[0mplt\u001b[0m\u001b[1;33m.\u001b[0m\u001b[0mtitle\u001b[0m\u001b[1;33m(\u001b[0m\u001b[1;34m'BMI vs Medical Charges'\u001b[0m\u001b[1;33m)\u001b[0m\u001b[1;33m\u001b[0m\u001b[1;33m\u001b[0m\u001b[0m\n",
      "\u001b[1;31mNameError\u001b[0m: name 'sns' is not defined"
     ]
    }
   ],
   "source": [
    "ax = sns.lmplot(x = 'age', y = 'charges', data = df, hue = 'smoker', palette = 'Set1')\n",
    "plt.title('Age vs Medical Charges')\n",
    "\n",
    "ax = sns.lmplot(x = 'bmi', y = 'charges', data = df, hue = 'smoker', palette = 'Set1')\n",
    "plt.title('BMI vs Medical Charges')\n",
    "\n",
    "ax = sns.lmplot(x = 'children', y = 'charges', data = df, hue = 'smoker', palette = 'Set1')\n",
    "plt.title('Number of children vs Medical Charges')"
   ]
  },
  {
   "cell_type": "code",
   "execution_count": 18,
   "metadata": {
    "scrolled": true
   },
   "outputs": [
    {
     "data": {
      "text/html": [
       "<style  type=\"text/css\" >\n",
       "#T_9c8c1b2a_2011_11eb_b1c8_4074e025615arow27_col1,#T_9c8c1b2a_2011_11eb_b1c8_4074e025615arow37_col1,#T_9c8c1b2a_2011_11eb_b1c8_4074e025615arow44_col1,#T_9c8c1b2a_2011_11eb_b1c8_4074e025615arow46_col1,#T_9c8c1b2a_2011_11eb_b1c8_4074e025615arow51_col1{\n",
       "            background-color:  lightgreen;\n",
       "        }</style><table id=\"T_9c8c1b2a_2011_11eb_b1c8_4074e025615a\" ><thead>    <tr>        <th class=\"blank level0\" ></th>        <th class=\"col_heading level0 col0\" >Description</th>        <th class=\"col_heading level0 col1\" >Value</th>    </tr></thead><tbody>\n",
       "                <tr>\n",
       "                        <th id=\"T_9c8c1b2a_2011_11eb_b1c8_4074e025615alevel0_row0\" class=\"row_heading level0 row0\" >0</th>\n",
       "                        <td id=\"T_9c8c1b2a_2011_11eb_b1c8_4074e025615arow0_col0\" class=\"data row0 col0\" >session_id</td>\n",
       "                        <td id=\"T_9c8c1b2a_2011_11eb_b1c8_4074e025615arow0_col1\" class=\"data row0 col1\" >123</td>\n",
       "            </tr>\n",
       "            <tr>\n",
       "                        <th id=\"T_9c8c1b2a_2011_11eb_b1c8_4074e025615alevel0_row1\" class=\"row_heading level0 row1\" >1</th>\n",
       "                        <td id=\"T_9c8c1b2a_2011_11eb_b1c8_4074e025615arow1_col0\" class=\"data row1 col0\" >Target</td>\n",
       "                        <td id=\"T_9c8c1b2a_2011_11eb_b1c8_4074e025615arow1_col1\" class=\"data row1 col1\" >charges</td>\n",
       "            </tr>\n",
       "            <tr>\n",
       "                        <th id=\"T_9c8c1b2a_2011_11eb_b1c8_4074e025615alevel0_row2\" class=\"row_heading level0 row2\" >2</th>\n",
       "                        <td id=\"T_9c8c1b2a_2011_11eb_b1c8_4074e025615arow2_col0\" class=\"data row2 col0\" >Original Data</td>\n",
       "                        <td id=\"T_9c8c1b2a_2011_11eb_b1c8_4074e025615arow2_col1\" class=\"data row2 col1\" >(1000, 7)</td>\n",
       "            </tr>\n",
       "            <tr>\n",
       "                        <th id=\"T_9c8c1b2a_2011_11eb_b1c8_4074e025615alevel0_row3\" class=\"row_heading level0 row3\" >3</th>\n",
       "                        <td id=\"T_9c8c1b2a_2011_11eb_b1c8_4074e025615arow3_col0\" class=\"data row3 col0\" >Missing Values</td>\n",
       "                        <td id=\"T_9c8c1b2a_2011_11eb_b1c8_4074e025615arow3_col1\" class=\"data row3 col1\" >False</td>\n",
       "            </tr>\n",
       "            <tr>\n",
       "                        <th id=\"T_9c8c1b2a_2011_11eb_b1c8_4074e025615alevel0_row4\" class=\"row_heading level0 row4\" >4</th>\n",
       "                        <td id=\"T_9c8c1b2a_2011_11eb_b1c8_4074e025615arow4_col0\" class=\"data row4 col0\" >Numeric Features</td>\n",
       "                        <td id=\"T_9c8c1b2a_2011_11eb_b1c8_4074e025615arow4_col1\" class=\"data row4 col1\" >2</td>\n",
       "            </tr>\n",
       "            <tr>\n",
       "                        <th id=\"T_9c8c1b2a_2011_11eb_b1c8_4074e025615alevel0_row5\" class=\"row_heading level0 row5\" >5</th>\n",
       "                        <td id=\"T_9c8c1b2a_2011_11eb_b1c8_4074e025615arow5_col0\" class=\"data row5 col0\" >Categorical Features</td>\n",
       "                        <td id=\"T_9c8c1b2a_2011_11eb_b1c8_4074e025615arow5_col1\" class=\"data row5 col1\" >4</td>\n",
       "            </tr>\n",
       "            <tr>\n",
       "                        <th id=\"T_9c8c1b2a_2011_11eb_b1c8_4074e025615alevel0_row6\" class=\"row_heading level0 row6\" >6</th>\n",
       "                        <td id=\"T_9c8c1b2a_2011_11eb_b1c8_4074e025615arow6_col0\" class=\"data row6 col0\" >Ordinal Features</td>\n",
       "                        <td id=\"T_9c8c1b2a_2011_11eb_b1c8_4074e025615arow6_col1\" class=\"data row6 col1\" >False</td>\n",
       "            </tr>\n",
       "            <tr>\n",
       "                        <th id=\"T_9c8c1b2a_2011_11eb_b1c8_4074e025615alevel0_row7\" class=\"row_heading level0 row7\" >7</th>\n",
       "                        <td id=\"T_9c8c1b2a_2011_11eb_b1c8_4074e025615arow7_col0\" class=\"data row7 col0\" >High Cardinality Features</td>\n",
       "                        <td id=\"T_9c8c1b2a_2011_11eb_b1c8_4074e025615arow7_col1\" class=\"data row7 col1\" >False</td>\n",
       "            </tr>\n",
       "            <tr>\n",
       "                        <th id=\"T_9c8c1b2a_2011_11eb_b1c8_4074e025615alevel0_row8\" class=\"row_heading level0 row8\" >8</th>\n",
       "                        <td id=\"T_9c8c1b2a_2011_11eb_b1c8_4074e025615arow8_col0\" class=\"data row8 col0\" >High Cardinality Method</td>\n",
       "                        <td id=\"T_9c8c1b2a_2011_11eb_b1c8_4074e025615arow8_col1\" class=\"data row8 col1\" >None</td>\n",
       "            </tr>\n",
       "            <tr>\n",
       "                        <th id=\"T_9c8c1b2a_2011_11eb_b1c8_4074e025615alevel0_row9\" class=\"row_heading level0 row9\" >9</th>\n",
       "                        <td id=\"T_9c8c1b2a_2011_11eb_b1c8_4074e025615arow9_col0\" class=\"data row9 col0\" >Transformed Train Set</td>\n",
       "                        <td id=\"T_9c8c1b2a_2011_11eb_b1c8_4074e025615arow9_col1\" class=\"data row9 col1\" >(699, 57)</td>\n",
       "            </tr>\n",
       "            <tr>\n",
       "                        <th id=\"T_9c8c1b2a_2011_11eb_b1c8_4074e025615alevel0_row10\" class=\"row_heading level0 row10\" >10</th>\n",
       "                        <td id=\"T_9c8c1b2a_2011_11eb_b1c8_4074e025615arow10_col0\" class=\"data row10 col0\" >Transformed Test Set</td>\n",
       "                        <td id=\"T_9c8c1b2a_2011_11eb_b1c8_4074e025615arow10_col1\" class=\"data row10 col1\" >(301, 57)</td>\n",
       "            </tr>\n",
       "            <tr>\n",
       "                        <th id=\"T_9c8c1b2a_2011_11eb_b1c8_4074e025615alevel0_row11\" class=\"row_heading level0 row11\" >11</th>\n",
       "                        <td id=\"T_9c8c1b2a_2011_11eb_b1c8_4074e025615arow11_col0\" class=\"data row11 col0\" >Shuffle Train-Test</td>\n",
       "                        <td id=\"T_9c8c1b2a_2011_11eb_b1c8_4074e025615arow11_col1\" class=\"data row11 col1\" >True</td>\n",
       "            </tr>\n",
       "            <tr>\n",
       "                        <th id=\"T_9c8c1b2a_2011_11eb_b1c8_4074e025615alevel0_row12\" class=\"row_heading level0 row12\" >12</th>\n",
       "                        <td id=\"T_9c8c1b2a_2011_11eb_b1c8_4074e025615arow12_col0\" class=\"data row12 col0\" >Stratify Train-Test</td>\n",
       "                        <td id=\"T_9c8c1b2a_2011_11eb_b1c8_4074e025615arow12_col1\" class=\"data row12 col1\" >False</td>\n",
       "            </tr>\n",
       "            <tr>\n",
       "                        <th id=\"T_9c8c1b2a_2011_11eb_b1c8_4074e025615alevel0_row13\" class=\"row_heading level0 row13\" >13</th>\n",
       "                        <td id=\"T_9c8c1b2a_2011_11eb_b1c8_4074e025615arow13_col0\" class=\"data row13 col0\" >Fold Generator</td>\n",
       "                        <td id=\"T_9c8c1b2a_2011_11eb_b1c8_4074e025615arow13_col1\" class=\"data row13 col1\" >KFold</td>\n",
       "            </tr>\n",
       "            <tr>\n",
       "                        <th id=\"T_9c8c1b2a_2011_11eb_b1c8_4074e025615alevel0_row14\" class=\"row_heading level0 row14\" >14</th>\n",
       "                        <td id=\"T_9c8c1b2a_2011_11eb_b1c8_4074e025615arow14_col0\" class=\"data row14 col0\" >Fold Number</td>\n",
       "                        <td id=\"T_9c8c1b2a_2011_11eb_b1c8_4074e025615arow14_col1\" class=\"data row14 col1\" >10</td>\n",
       "            </tr>\n",
       "            <tr>\n",
       "                        <th id=\"T_9c8c1b2a_2011_11eb_b1c8_4074e025615alevel0_row15\" class=\"row_heading level0 row15\" >15</th>\n",
       "                        <td id=\"T_9c8c1b2a_2011_11eb_b1c8_4074e025615arow15_col0\" class=\"data row15 col0\" >CPU Jobs</td>\n",
       "                        <td id=\"T_9c8c1b2a_2011_11eb_b1c8_4074e025615arow15_col1\" class=\"data row15 col1\" >-1</td>\n",
       "            </tr>\n",
       "            <tr>\n",
       "                        <th id=\"T_9c8c1b2a_2011_11eb_b1c8_4074e025615alevel0_row16\" class=\"row_heading level0 row16\" >16</th>\n",
       "                        <td id=\"T_9c8c1b2a_2011_11eb_b1c8_4074e025615arow16_col0\" class=\"data row16 col0\" >Use GPU</td>\n",
       "                        <td id=\"T_9c8c1b2a_2011_11eb_b1c8_4074e025615arow16_col1\" class=\"data row16 col1\" >False</td>\n",
       "            </tr>\n",
       "            <tr>\n",
       "                        <th id=\"T_9c8c1b2a_2011_11eb_b1c8_4074e025615alevel0_row17\" class=\"row_heading level0 row17\" >17</th>\n",
       "                        <td id=\"T_9c8c1b2a_2011_11eb_b1c8_4074e025615arow17_col0\" class=\"data row17 col0\" >Log Experiment</td>\n",
       "                        <td id=\"T_9c8c1b2a_2011_11eb_b1c8_4074e025615arow17_col1\" class=\"data row17 col1\" >False</td>\n",
       "            </tr>\n",
       "            <tr>\n",
       "                        <th id=\"T_9c8c1b2a_2011_11eb_b1c8_4074e025615alevel0_row18\" class=\"row_heading level0 row18\" >18</th>\n",
       "                        <td id=\"T_9c8c1b2a_2011_11eb_b1c8_4074e025615arow18_col0\" class=\"data row18 col0\" >Experiment Name</td>\n",
       "                        <td id=\"T_9c8c1b2a_2011_11eb_b1c8_4074e025615arow18_col1\" class=\"data row18 col1\" >reg-default-name</td>\n",
       "            </tr>\n",
       "            <tr>\n",
       "                        <th id=\"T_9c8c1b2a_2011_11eb_b1c8_4074e025615alevel0_row19\" class=\"row_heading level0 row19\" >19</th>\n",
       "                        <td id=\"T_9c8c1b2a_2011_11eb_b1c8_4074e025615arow19_col0\" class=\"data row19 col0\" >USI</td>\n",
       "                        <td id=\"T_9c8c1b2a_2011_11eb_b1c8_4074e025615arow19_col1\" class=\"data row19 col1\" >9d7e</td>\n",
       "            </tr>\n",
       "            <tr>\n",
       "                        <th id=\"T_9c8c1b2a_2011_11eb_b1c8_4074e025615alevel0_row20\" class=\"row_heading level0 row20\" >20</th>\n",
       "                        <td id=\"T_9c8c1b2a_2011_11eb_b1c8_4074e025615arow20_col0\" class=\"data row20 col0\" >Imputation Type</td>\n",
       "                        <td id=\"T_9c8c1b2a_2011_11eb_b1c8_4074e025615arow20_col1\" class=\"data row20 col1\" >simple</td>\n",
       "            </tr>\n",
       "            <tr>\n",
       "                        <th id=\"T_9c8c1b2a_2011_11eb_b1c8_4074e025615alevel0_row21\" class=\"row_heading level0 row21\" >21</th>\n",
       "                        <td id=\"T_9c8c1b2a_2011_11eb_b1c8_4074e025615arow21_col0\" class=\"data row21 col0\" >Iterative Imputation Iteration</td>\n",
       "                        <td id=\"T_9c8c1b2a_2011_11eb_b1c8_4074e025615arow21_col1\" class=\"data row21 col1\" >None</td>\n",
       "            </tr>\n",
       "            <tr>\n",
       "                        <th id=\"T_9c8c1b2a_2011_11eb_b1c8_4074e025615alevel0_row22\" class=\"row_heading level0 row22\" >22</th>\n",
       "                        <td id=\"T_9c8c1b2a_2011_11eb_b1c8_4074e025615arow22_col0\" class=\"data row22 col0\" >Numeric Imputer</td>\n",
       "                        <td id=\"T_9c8c1b2a_2011_11eb_b1c8_4074e025615arow22_col1\" class=\"data row22 col1\" >mean</td>\n",
       "            </tr>\n",
       "            <tr>\n",
       "                        <th id=\"T_9c8c1b2a_2011_11eb_b1c8_4074e025615alevel0_row23\" class=\"row_heading level0 row23\" >23</th>\n",
       "                        <td id=\"T_9c8c1b2a_2011_11eb_b1c8_4074e025615arow23_col0\" class=\"data row23 col0\" >Iterative Imputation Numeric Model</td>\n",
       "                        <td id=\"T_9c8c1b2a_2011_11eb_b1c8_4074e025615arow23_col1\" class=\"data row23 col1\" >None</td>\n",
       "            </tr>\n",
       "            <tr>\n",
       "                        <th id=\"T_9c8c1b2a_2011_11eb_b1c8_4074e025615alevel0_row24\" class=\"row_heading level0 row24\" >24</th>\n",
       "                        <td id=\"T_9c8c1b2a_2011_11eb_b1c8_4074e025615arow24_col0\" class=\"data row24 col0\" >Categorical Imputer</td>\n",
       "                        <td id=\"T_9c8c1b2a_2011_11eb_b1c8_4074e025615arow24_col1\" class=\"data row24 col1\" >constant</td>\n",
       "            </tr>\n",
       "            <tr>\n",
       "                        <th id=\"T_9c8c1b2a_2011_11eb_b1c8_4074e025615alevel0_row25\" class=\"row_heading level0 row25\" >25</th>\n",
       "                        <td id=\"T_9c8c1b2a_2011_11eb_b1c8_4074e025615arow25_col0\" class=\"data row25 col0\" >Iterative Imputation Categorical Model</td>\n",
       "                        <td id=\"T_9c8c1b2a_2011_11eb_b1c8_4074e025615arow25_col1\" class=\"data row25 col1\" >None</td>\n",
       "            </tr>\n",
       "            <tr>\n",
       "                        <th id=\"T_9c8c1b2a_2011_11eb_b1c8_4074e025615alevel0_row26\" class=\"row_heading level0 row26\" >26</th>\n",
       "                        <td id=\"T_9c8c1b2a_2011_11eb_b1c8_4074e025615arow26_col0\" class=\"data row26 col0\" >Unknown Categoricals Handling</td>\n",
       "                        <td id=\"T_9c8c1b2a_2011_11eb_b1c8_4074e025615arow26_col1\" class=\"data row26 col1\" >least_frequent</td>\n",
       "            </tr>\n",
       "            <tr>\n",
       "                        <th id=\"T_9c8c1b2a_2011_11eb_b1c8_4074e025615alevel0_row27\" class=\"row_heading level0 row27\" >27</th>\n",
       "                        <td id=\"T_9c8c1b2a_2011_11eb_b1c8_4074e025615arow27_col0\" class=\"data row27 col0\" >Normalize</td>\n",
       "                        <td id=\"T_9c8c1b2a_2011_11eb_b1c8_4074e025615arow27_col1\" class=\"data row27 col1\" >True</td>\n",
       "            </tr>\n",
       "            <tr>\n",
       "                        <th id=\"T_9c8c1b2a_2011_11eb_b1c8_4074e025615alevel0_row28\" class=\"row_heading level0 row28\" >28</th>\n",
       "                        <td id=\"T_9c8c1b2a_2011_11eb_b1c8_4074e025615arow28_col0\" class=\"data row28 col0\" >Normalize Method</td>\n",
       "                        <td id=\"T_9c8c1b2a_2011_11eb_b1c8_4074e025615arow28_col1\" class=\"data row28 col1\" >zscore</td>\n",
       "            </tr>\n",
       "            <tr>\n",
       "                        <th id=\"T_9c8c1b2a_2011_11eb_b1c8_4074e025615alevel0_row29\" class=\"row_heading level0 row29\" >29</th>\n",
       "                        <td id=\"T_9c8c1b2a_2011_11eb_b1c8_4074e025615arow29_col0\" class=\"data row29 col0\" >Transformation</td>\n",
       "                        <td id=\"T_9c8c1b2a_2011_11eb_b1c8_4074e025615arow29_col1\" class=\"data row29 col1\" >False</td>\n",
       "            </tr>\n",
       "            <tr>\n",
       "                        <th id=\"T_9c8c1b2a_2011_11eb_b1c8_4074e025615alevel0_row30\" class=\"row_heading level0 row30\" >30</th>\n",
       "                        <td id=\"T_9c8c1b2a_2011_11eb_b1c8_4074e025615arow30_col0\" class=\"data row30 col0\" >Transformation Method</td>\n",
       "                        <td id=\"T_9c8c1b2a_2011_11eb_b1c8_4074e025615arow30_col1\" class=\"data row30 col1\" >None</td>\n",
       "            </tr>\n",
       "            <tr>\n",
       "                        <th id=\"T_9c8c1b2a_2011_11eb_b1c8_4074e025615alevel0_row31\" class=\"row_heading level0 row31\" >31</th>\n",
       "                        <td id=\"T_9c8c1b2a_2011_11eb_b1c8_4074e025615arow31_col0\" class=\"data row31 col0\" >PCA</td>\n",
       "                        <td id=\"T_9c8c1b2a_2011_11eb_b1c8_4074e025615arow31_col1\" class=\"data row31 col1\" >False</td>\n",
       "            </tr>\n",
       "            <tr>\n",
       "                        <th id=\"T_9c8c1b2a_2011_11eb_b1c8_4074e025615alevel0_row32\" class=\"row_heading level0 row32\" >32</th>\n",
       "                        <td id=\"T_9c8c1b2a_2011_11eb_b1c8_4074e025615arow32_col0\" class=\"data row32 col0\" >PCA Method</td>\n",
       "                        <td id=\"T_9c8c1b2a_2011_11eb_b1c8_4074e025615arow32_col1\" class=\"data row32 col1\" >None</td>\n",
       "            </tr>\n",
       "            <tr>\n",
       "                        <th id=\"T_9c8c1b2a_2011_11eb_b1c8_4074e025615alevel0_row33\" class=\"row_heading level0 row33\" >33</th>\n",
       "                        <td id=\"T_9c8c1b2a_2011_11eb_b1c8_4074e025615arow33_col0\" class=\"data row33 col0\" >PCA Components</td>\n",
       "                        <td id=\"T_9c8c1b2a_2011_11eb_b1c8_4074e025615arow33_col1\" class=\"data row33 col1\" >None</td>\n",
       "            </tr>\n",
       "            <tr>\n",
       "                        <th id=\"T_9c8c1b2a_2011_11eb_b1c8_4074e025615alevel0_row34\" class=\"row_heading level0 row34\" >34</th>\n",
       "                        <td id=\"T_9c8c1b2a_2011_11eb_b1c8_4074e025615arow34_col0\" class=\"data row34 col0\" >Ignore Low Variance</td>\n",
       "                        <td id=\"T_9c8c1b2a_2011_11eb_b1c8_4074e025615arow34_col1\" class=\"data row34 col1\" >False</td>\n",
       "            </tr>\n",
       "            <tr>\n",
       "                        <th id=\"T_9c8c1b2a_2011_11eb_b1c8_4074e025615alevel0_row35\" class=\"row_heading level0 row35\" >35</th>\n",
       "                        <td id=\"T_9c8c1b2a_2011_11eb_b1c8_4074e025615arow35_col0\" class=\"data row35 col0\" >Combine Rare Levels</td>\n",
       "                        <td id=\"T_9c8c1b2a_2011_11eb_b1c8_4074e025615arow35_col1\" class=\"data row35 col1\" >False</td>\n",
       "            </tr>\n",
       "            <tr>\n",
       "                        <th id=\"T_9c8c1b2a_2011_11eb_b1c8_4074e025615alevel0_row36\" class=\"row_heading level0 row36\" >36</th>\n",
       "                        <td id=\"T_9c8c1b2a_2011_11eb_b1c8_4074e025615arow36_col0\" class=\"data row36 col0\" >Rare Level Threshold</td>\n",
       "                        <td id=\"T_9c8c1b2a_2011_11eb_b1c8_4074e025615arow36_col1\" class=\"data row36 col1\" >None</td>\n",
       "            </tr>\n",
       "            <tr>\n",
       "                        <th id=\"T_9c8c1b2a_2011_11eb_b1c8_4074e025615alevel0_row37\" class=\"row_heading level0 row37\" >37</th>\n",
       "                        <td id=\"T_9c8c1b2a_2011_11eb_b1c8_4074e025615arow37_col0\" class=\"data row37 col0\" >Numeric Binning</td>\n",
       "                        <td id=\"T_9c8c1b2a_2011_11eb_b1c8_4074e025615arow37_col1\" class=\"data row37 col1\" >True</td>\n",
       "            </tr>\n",
       "            <tr>\n",
       "                        <th id=\"T_9c8c1b2a_2011_11eb_b1c8_4074e025615alevel0_row38\" class=\"row_heading level0 row38\" >38</th>\n",
       "                        <td id=\"T_9c8c1b2a_2011_11eb_b1c8_4074e025615arow38_col0\" class=\"data row38 col0\" >Remove Outliers</td>\n",
       "                        <td id=\"T_9c8c1b2a_2011_11eb_b1c8_4074e025615arow38_col1\" class=\"data row38 col1\" >False</td>\n",
       "            </tr>\n",
       "            <tr>\n",
       "                        <th id=\"T_9c8c1b2a_2011_11eb_b1c8_4074e025615alevel0_row39\" class=\"row_heading level0 row39\" >39</th>\n",
       "                        <td id=\"T_9c8c1b2a_2011_11eb_b1c8_4074e025615arow39_col0\" class=\"data row39 col0\" >Outliers Threshold</td>\n",
       "                        <td id=\"T_9c8c1b2a_2011_11eb_b1c8_4074e025615arow39_col1\" class=\"data row39 col1\" >None</td>\n",
       "            </tr>\n",
       "            <tr>\n",
       "                        <th id=\"T_9c8c1b2a_2011_11eb_b1c8_4074e025615alevel0_row40\" class=\"row_heading level0 row40\" >40</th>\n",
       "                        <td id=\"T_9c8c1b2a_2011_11eb_b1c8_4074e025615arow40_col0\" class=\"data row40 col0\" >Remove Multicollinearity</td>\n",
       "                        <td id=\"T_9c8c1b2a_2011_11eb_b1c8_4074e025615arow40_col1\" class=\"data row40 col1\" >False</td>\n",
       "            </tr>\n",
       "            <tr>\n",
       "                        <th id=\"T_9c8c1b2a_2011_11eb_b1c8_4074e025615alevel0_row41\" class=\"row_heading level0 row41\" >41</th>\n",
       "                        <td id=\"T_9c8c1b2a_2011_11eb_b1c8_4074e025615arow41_col0\" class=\"data row41 col0\" >Multicollinearity Threshold</td>\n",
       "                        <td id=\"T_9c8c1b2a_2011_11eb_b1c8_4074e025615arow41_col1\" class=\"data row41 col1\" >None</td>\n",
       "            </tr>\n",
       "            <tr>\n",
       "                        <th id=\"T_9c8c1b2a_2011_11eb_b1c8_4074e025615alevel0_row42\" class=\"row_heading level0 row42\" >42</th>\n",
       "                        <td id=\"T_9c8c1b2a_2011_11eb_b1c8_4074e025615arow42_col0\" class=\"data row42 col0\" >Clustering</td>\n",
       "                        <td id=\"T_9c8c1b2a_2011_11eb_b1c8_4074e025615arow42_col1\" class=\"data row42 col1\" >False</td>\n",
       "            </tr>\n",
       "            <tr>\n",
       "                        <th id=\"T_9c8c1b2a_2011_11eb_b1c8_4074e025615alevel0_row43\" class=\"row_heading level0 row43\" >43</th>\n",
       "                        <td id=\"T_9c8c1b2a_2011_11eb_b1c8_4074e025615arow43_col0\" class=\"data row43 col0\" >Clustering Iteration</td>\n",
       "                        <td id=\"T_9c8c1b2a_2011_11eb_b1c8_4074e025615arow43_col1\" class=\"data row43 col1\" >None</td>\n",
       "            </tr>\n",
       "            <tr>\n",
       "                        <th id=\"T_9c8c1b2a_2011_11eb_b1c8_4074e025615alevel0_row44\" class=\"row_heading level0 row44\" >44</th>\n",
       "                        <td id=\"T_9c8c1b2a_2011_11eb_b1c8_4074e025615arow44_col0\" class=\"data row44 col0\" >Polynomial Features</td>\n",
       "                        <td id=\"T_9c8c1b2a_2011_11eb_b1c8_4074e025615arow44_col1\" class=\"data row44 col1\" >True</td>\n",
       "            </tr>\n",
       "            <tr>\n",
       "                        <th id=\"T_9c8c1b2a_2011_11eb_b1c8_4074e025615alevel0_row45\" class=\"row_heading level0 row45\" >45</th>\n",
       "                        <td id=\"T_9c8c1b2a_2011_11eb_b1c8_4074e025615arow45_col0\" class=\"data row45 col0\" >Polynomial Degree</td>\n",
       "                        <td id=\"T_9c8c1b2a_2011_11eb_b1c8_4074e025615arow45_col1\" class=\"data row45 col1\" >2</td>\n",
       "            </tr>\n",
       "            <tr>\n",
       "                        <th id=\"T_9c8c1b2a_2011_11eb_b1c8_4074e025615alevel0_row46\" class=\"row_heading level0 row46\" >46</th>\n",
       "                        <td id=\"T_9c8c1b2a_2011_11eb_b1c8_4074e025615arow46_col0\" class=\"data row46 col0\" >Trignometry Features</td>\n",
       "                        <td id=\"T_9c8c1b2a_2011_11eb_b1c8_4074e025615arow46_col1\" class=\"data row46 col1\" >True</td>\n",
       "            </tr>\n",
       "            <tr>\n",
       "                        <th id=\"T_9c8c1b2a_2011_11eb_b1c8_4074e025615alevel0_row47\" class=\"row_heading level0 row47\" >47</th>\n",
       "                        <td id=\"T_9c8c1b2a_2011_11eb_b1c8_4074e025615arow47_col0\" class=\"data row47 col0\" >Polynomial Threshold</td>\n",
       "                        <td id=\"T_9c8c1b2a_2011_11eb_b1c8_4074e025615arow47_col1\" class=\"data row47 col1\" >0.100000</td>\n",
       "            </tr>\n",
       "            <tr>\n",
       "                        <th id=\"T_9c8c1b2a_2011_11eb_b1c8_4074e025615alevel0_row48\" class=\"row_heading level0 row48\" >48</th>\n",
       "                        <td id=\"T_9c8c1b2a_2011_11eb_b1c8_4074e025615arow48_col0\" class=\"data row48 col0\" >Group Features</td>\n",
       "                        <td id=\"T_9c8c1b2a_2011_11eb_b1c8_4074e025615arow48_col1\" class=\"data row48 col1\" >False</td>\n",
       "            </tr>\n",
       "            <tr>\n",
       "                        <th id=\"T_9c8c1b2a_2011_11eb_b1c8_4074e025615alevel0_row49\" class=\"row_heading level0 row49\" >49</th>\n",
       "                        <td id=\"T_9c8c1b2a_2011_11eb_b1c8_4074e025615arow49_col0\" class=\"data row49 col0\" >Feature Selection</td>\n",
       "                        <td id=\"T_9c8c1b2a_2011_11eb_b1c8_4074e025615arow49_col1\" class=\"data row49 col1\" >False</td>\n",
       "            </tr>\n",
       "            <tr>\n",
       "                        <th id=\"T_9c8c1b2a_2011_11eb_b1c8_4074e025615alevel0_row50\" class=\"row_heading level0 row50\" >50</th>\n",
       "                        <td id=\"T_9c8c1b2a_2011_11eb_b1c8_4074e025615arow50_col0\" class=\"data row50 col0\" >Features Selection Threshold</td>\n",
       "                        <td id=\"T_9c8c1b2a_2011_11eb_b1c8_4074e025615arow50_col1\" class=\"data row50 col1\" >None</td>\n",
       "            </tr>\n",
       "            <tr>\n",
       "                        <th id=\"T_9c8c1b2a_2011_11eb_b1c8_4074e025615alevel0_row51\" class=\"row_heading level0 row51\" >51</th>\n",
       "                        <td id=\"T_9c8c1b2a_2011_11eb_b1c8_4074e025615arow51_col0\" class=\"data row51 col0\" >Feature Interaction</td>\n",
       "                        <td id=\"T_9c8c1b2a_2011_11eb_b1c8_4074e025615arow51_col1\" class=\"data row51 col1\" >True</td>\n",
       "            </tr>\n",
       "            <tr>\n",
       "                        <th id=\"T_9c8c1b2a_2011_11eb_b1c8_4074e025615alevel0_row52\" class=\"row_heading level0 row52\" >52</th>\n",
       "                        <td id=\"T_9c8c1b2a_2011_11eb_b1c8_4074e025615arow52_col0\" class=\"data row52 col0\" >Feature Ratio</td>\n",
       "                        <td id=\"T_9c8c1b2a_2011_11eb_b1c8_4074e025615arow52_col1\" class=\"data row52 col1\" >False</td>\n",
       "            </tr>\n",
       "            <tr>\n",
       "                        <th id=\"T_9c8c1b2a_2011_11eb_b1c8_4074e025615alevel0_row53\" class=\"row_heading level0 row53\" >53</th>\n",
       "                        <td id=\"T_9c8c1b2a_2011_11eb_b1c8_4074e025615arow53_col0\" class=\"data row53 col0\" >Interaction Threshold</td>\n",
       "                        <td id=\"T_9c8c1b2a_2011_11eb_b1c8_4074e025615arow53_col1\" class=\"data row53 col1\" >0.010000</td>\n",
       "            </tr>\n",
       "            <tr>\n",
       "                        <th id=\"T_9c8c1b2a_2011_11eb_b1c8_4074e025615alevel0_row54\" class=\"row_heading level0 row54\" >54</th>\n",
       "                        <td id=\"T_9c8c1b2a_2011_11eb_b1c8_4074e025615arow54_col0\" class=\"data row54 col0\" >Transform Target</td>\n",
       "                        <td id=\"T_9c8c1b2a_2011_11eb_b1c8_4074e025615arow54_col1\" class=\"data row54 col1\" >False</td>\n",
       "            </tr>\n",
       "            <tr>\n",
       "                        <th id=\"T_9c8c1b2a_2011_11eb_b1c8_4074e025615alevel0_row55\" class=\"row_heading level0 row55\" >55</th>\n",
       "                        <td id=\"T_9c8c1b2a_2011_11eb_b1c8_4074e025615arow55_col0\" class=\"data row55 col0\" >Transform Target Method</td>\n",
       "                        <td id=\"T_9c8c1b2a_2011_11eb_b1c8_4074e025615arow55_col1\" class=\"data row55 col1\" >box-cox</td>\n",
       "            </tr>\n",
       "    </tbody></table>"
      ],
      "text/plain": [
       "<pandas.io.formats.style.Styler at 0x20d26a1d670>"
      ]
     },
     "metadata": {},
     "output_type": "display_data"
    }
   ],
   "source": [
    "s2 = setup(df, target = 'charges', session_id = 123,\n",
    "           normalize = True,\n",
    "           polynomial_features = True, trigonometry_features = True, feature_interaction=True, \n",
    "           bin_numeric_features= ['age', 'bmi'])"
   ]
  },
  {
   "cell_type": "code",
   "execution_count": 20,
   "metadata": {
    "scrolled": true
   },
   "outputs": [
    {
     "data": {
      "text/html": [
       "<style  type=\"text/css\" >\n",
       "    #T_cf8a7765_2011_11eb_b2f5_4074e025615a th {\n",
       "          text-align: left;\n",
       "    }#T_cf8a7765_2011_11eb_b2f5_4074e025615arow0_col0,#T_cf8a7765_2011_11eb_b2f5_4074e025615arow0_col1,#T_cf8a7765_2011_11eb_b2f5_4074e025615arow0_col5,#T_cf8a7765_2011_11eb_b2f5_4074e025615arow0_col6,#T_cf8a7765_2011_11eb_b2f5_4074e025615arow1_col0,#T_cf8a7765_2011_11eb_b2f5_4074e025615arow1_col1,#T_cf8a7765_2011_11eb_b2f5_4074e025615arow1_col2,#T_cf8a7765_2011_11eb_b2f5_4074e025615arow1_col3,#T_cf8a7765_2011_11eb_b2f5_4074e025615arow1_col4,#T_cf8a7765_2011_11eb_b2f5_4074e025615arow1_col5,#T_cf8a7765_2011_11eb_b2f5_4074e025615arow1_col6,#T_cf8a7765_2011_11eb_b2f5_4074e025615arow2_col0,#T_cf8a7765_2011_11eb_b2f5_4074e025615arow2_col1,#T_cf8a7765_2011_11eb_b2f5_4074e025615arow2_col2,#T_cf8a7765_2011_11eb_b2f5_4074e025615arow2_col3,#T_cf8a7765_2011_11eb_b2f5_4074e025615arow2_col4,#T_cf8a7765_2011_11eb_b2f5_4074e025615arow2_col5,#T_cf8a7765_2011_11eb_b2f5_4074e025615arow2_col6,#T_cf8a7765_2011_11eb_b2f5_4074e025615arow3_col0,#T_cf8a7765_2011_11eb_b2f5_4074e025615arow3_col1,#T_cf8a7765_2011_11eb_b2f5_4074e025615arow3_col2,#T_cf8a7765_2011_11eb_b2f5_4074e025615arow3_col3,#T_cf8a7765_2011_11eb_b2f5_4074e025615arow3_col4,#T_cf8a7765_2011_11eb_b2f5_4074e025615arow3_col5,#T_cf8a7765_2011_11eb_b2f5_4074e025615arow3_col6,#T_cf8a7765_2011_11eb_b2f5_4074e025615arow4_col0,#T_cf8a7765_2011_11eb_b2f5_4074e025615arow4_col1,#T_cf8a7765_2011_11eb_b2f5_4074e025615arow4_col2,#T_cf8a7765_2011_11eb_b2f5_4074e025615arow4_col3,#T_cf8a7765_2011_11eb_b2f5_4074e025615arow4_col4,#T_cf8a7765_2011_11eb_b2f5_4074e025615arow4_col5,#T_cf8a7765_2011_11eb_b2f5_4074e025615arow4_col6,#T_cf8a7765_2011_11eb_b2f5_4074e025615arow5_col0,#T_cf8a7765_2011_11eb_b2f5_4074e025615arow5_col1,#T_cf8a7765_2011_11eb_b2f5_4074e025615arow5_col2,#T_cf8a7765_2011_11eb_b2f5_4074e025615arow5_col3,#T_cf8a7765_2011_11eb_b2f5_4074e025615arow5_col4,#T_cf8a7765_2011_11eb_b2f5_4074e025615arow5_col5,#T_cf8a7765_2011_11eb_b2f5_4074e025615arow5_col6,#T_cf8a7765_2011_11eb_b2f5_4074e025615arow6_col0,#T_cf8a7765_2011_11eb_b2f5_4074e025615arow6_col1,#T_cf8a7765_2011_11eb_b2f5_4074e025615arow6_col2,#T_cf8a7765_2011_11eb_b2f5_4074e025615arow6_col3,#T_cf8a7765_2011_11eb_b2f5_4074e025615arow6_col4,#T_cf8a7765_2011_11eb_b2f5_4074e025615arow6_col5,#T_cf8a7765_2011_11eb_b2f5_4074e025615arow6_col6,#T_cf8a7765_2011_11eb_b2f5_4074e025615arow7_col0,#T_cf8a7765_2011_11eb_b2f5_4074e025615arow7_col1,#T_cf8a7765_2011_11eb_b2f5_4074e025615arow7_col2,#T_cf8a7765_2011_11eb_b2f5_4074e025615arow7_col3,#T_cf8a7765_2011_11eb_b2f5_4074e025615arow7_col4,#T_cf8a7765_2011_11eb_b2f5_4074e025615arow7_col5,#T_cf8a7765_2011_11eb_b2f5_4074e025615arow7_col6,#T_cf8a7765_2011_11eb_b2f5_4074e025615arow8_col0,#T_cf8a7765_2011_11eb_b2f5_4074e025615arow8_col1,#T_cf8a7765_2011_11eb_b2f5_4074e025615arow8_col2,#T_cf8a7765_2011_11eb_b2f5_4074e025615arow8_col3,#T_cf8a7765_2011_11eb_b2f5_4074e025615arow8_col4,#T_cf8a7765_2011_11eb_b2f5_4074e025615arow8_col5,#T_cf8a7765_2011_11eb_b2f5_4074e025615arow8_col6,#T_cf8a7765_2011_11eb_b2f5_4074e025615arow9_col0,#T_cf8a7765_2011_11eb_b2f5_4074e025615arow9_col1,#T_cf8a7765_2011_11eb_b2f5_4074e025615arow9_col2,#T_cf8a7765_2011_11eb_b2f5_4074e025615arow9_col3,#T_cf8a7765_2011_11eb_b2f5_4074e025615arow9_col4,#T_cf8a7765_2011_11eb_b2f5_4074e025615arow9_col5,#T_cf8a7765_2011_11eb_b2f5_4074e025615arow9_col6,#T_cf8a7765_2011_11eb_b2f5_4074e025615arow10_col0,#T_cf8a7765_2011_11eb_b2f5_4074e025615arow10_col2,#T_cf8a7765_2011_11eb_b2f5_4074e025615arow10_col3,#T_cf8a7765_2011_11eb_b2f5_4074e025615arow10_col4,#T_cf8a7765_2011_11eb_b2f5_4074e025615arow11_col0,#T_cf8a7765_2011_11eb_b2f5_4074e025615arow11_col1,#T_cf8a7765_2011_11eb_b2f5_4074e025615arow11_col2,#T_cf8a7765_2011_11eb_b2f5_4074e025615arow11_col3,#T_cf8a7765_2011_11eb_b2f5_4074e025615arow11_col4,#T_cf8a7765_2011_11eb_b2f5_4074e025615arow11_col5,#T_cf8a7765_2011_11eb_b2f5_4074e025615arow11_col6,#T_cf8a7765_2011_11eb_b2f5_4074e025615arow12_col0,#T_cf8a7765_2011_11eb_b2f5_4074e025615arow12_col1,#T_cf8a7765_2011_11eb_b2f5_4074e025615arow12_col2,#T_cf8a7765_2011_11eb_b2f5_4074e025615arow12_col3,#T_cf8a7765_2011_11eb_b2f5_4074e025615arow12_col4,#T_cf8a7765_2011_11eb_b2f5_4074e025615arow12_col5,#T_cf8a7765_2011_11eb_b2f5_4074e025615arow12_col6,#T_cf8a7765_2011_11eb_b2f5_4074e025615arow13_col0,#T_cf8a7765_2011_11eb_b2f5_4074e025615arow13_col1,#T_cf8a7765_2011_11eb_b2f5_4074e025615arow13_col2,#T_cf8a7765_2011_11eb_b2f5_4074e025615arow13_col3,#T_cf8a7765_2011_11eb_b2f5_4074e025615arow13_col4,#T_cf8a7765_2011_11eb_b2f5_4074e025615arow13_col5,#T_cf8a7765_2011_11eb_b2f5_4074e025615arow13_col6,#T_cf8a7765_2011_11eb_b2f5_4074e025615arow14_col0,#T_cf8a7765_2011_11eb_b2f5_4074e025615arow14_col1,#T_cf8a7765_2011_11eb_b2f5_4074e025615arow14_col2,#T_cf8a7765_2011_11eb_b2f5_4074e025615arow14_col3,#T_cf8a7765_2011_11eb_b2f5_4074e025615arow14_col4,#T_cf8a7765_2011_11eb_b2f5_4074e025615arow14_col5,#T_cf8a7765_2011_11eb_b2f5_4074e025615arow14_col6,#T_cf8a7765_2011_11eb_b2f5_4074e025615arow15_col0,#T_cf8a7765_2011_11eb_b2f5_4074e025615arow15_col1,#T_cf8a7765_2011_11eb_b2f5_4074e025615arow15_col2,#T_cf8a7765_2011_11eb_b2f5_4074e025615arow15_col3,#T_cf8a7765_2011_11eb_b2f5_4074e025615arow15_col4,#T_cf8a7765_2011_11eb_b2f5_4074e025615arow15_col5,#T_cf8a7765_2011_11eb_b2f5_4074e025615arow15_col6,#T_cf8a7765_2011_11eb_b2f5_4074e025615arow16_col0,#T_cf8a7765_2011_11eb_b2f5_4074e025615arow16_col1,#T_cf8a7765_2011_11eb_b2f5_4074e025615arow16_col2,#T_cf8a7765_2011_11eb_b2f5_4074e025615arow16_col3,#T_cf8a7765_2011_11eb_b2f5_4074e025615arow16_col4,#T_cf8a7765_2011_11eb_b2f5_4074e025615arow16_col5,#T_cf8a7765_2011_11eb_b2f5_4074e025615arow16_col6,#T_cf8a7765_2011_11eb_b2f5_4074e025615arow17_col0,#T_cf8a7765_2011_11eb_b2f5_4074e025615arow17_col1,#T_cf8a7765_2011_11eb_b2f5_4074e025615arow17_col2,#T_cf8a7765_2011_11eb_b2f5_4074e025615arow17_col3,#T_cf8a7765_2011_11eb_b2f5_4074e025615arow17_col4,#T_cf8a7765_2011_11eb_b2f5_4074e025615arow17_col5,#T_cf8a7765_2011_11eb_b2f5_4074e025615arow17_col6,#T_cf8a7765_2011_11eb_b2f5_4074e025615arow18_col0,#T_cf8a7765_2011_11eb_b2f5_4074e025615arow18_col1,#T_cf8a7765_2011_11eb_b2f5_4074e025615arow18_col2,#T_cf8a7765_2011_11eb_b2f5_4074e025615arow18_col3,#T_cf8a7765_2011_11eb_b2f5_4074e025615arow18_col4,#T_cf8a7765_2011_11eb_b2f5_4074e025615arow18_col5,#T_cf8a7765_2011_11eb_b2f5_4074e025615arow18_col6{\n",
       "            text-align:  left;\n",
       "            text-align:  left;\n",
       "        }#T_cf8a7765_2011_11eb_b2f5_4074e025615arow0_col2,#T_cf8a7765_2011_11eb_b2f5_4074e025615arow0_col3,#T_cf8a7765_2011_11eb_b2f5_4074e025615arow0_col4,#T_cf8a7765_2011_11eb_b2f5_4074e025615arow10_col1,#T_cf8a7765_2011_11eb_b2f5_4074e025615arow10_col5,#T_cf8a7765_2011_11eb_b2f5_4074e025615arow10_col6{\n",
       "            text-align:  left;\n",
       "            text-align:  left;\n",
       "            background-color:  yellow;\n",
       "        }#T_cf8a7765_2011_11eb_b2f5_4074e025615arow0_col7,#T_cf8a7765_2011_11eb_b2f5_4074e025615arow1_col7,#T_cf8a7765_2011_11eb_b2f5_4074e025615arow2_col7,#T_cf8a7765_2011_11eb_b2f5_4074e025615arow3_col7,#T_cf8a7765_2011_11eb_b2f5_4074e025615arow4_col7,#T_cf8a7765_2011_11eb_b2f5_4074e025615arow5_col7,#T_cf8a7765_2011_11eb_b2f5_4074e025615arow7_col7,#T_cf8a7765_2011_11eb_b2f5_4074e025615arow8_col7,#T_cf8a7765_2011_11eb_b2f5_4074e025615arow9_col7,#T_cf8a7765_2011_11eb_b2f5_4074e025615arow10_col7,#T_cf8a7765_2011_11eb_b2f5_4074e025615arow11_col7,#T_cf8a7765_2011_11eb_b2f5_4074e025615arow12_col7,#T_cf8a7765_2011_11eb_b2f5_4074e025615arow13_col7,#T_cf8a7765_2011_11eb_b2f5_4074e025615arow14_col7,#T_cf8a7765_2011_11eb_b2f5_4074e025615arow15_col7,#T_cf8a7765_2011_11eb_b2f5_4074e025615arow16_col7,#T_cf8a7765_2011_11eb_b2f5_4074e025615arow17_col7,#T_cf8a7765_2011_11eb_b2f5_4074e025615arow18_col7{\n",
       "            text-align:  left;\n",
       "            text-align:  left;\n",
       "            background-color:  lightgrey;\n",
       "        }#T_cf8a7765_2011_11eb_b2f5_4074e025615arow6_col7{\n",
       "            text-align:  left;\n",
       "            text-align:  left;\n",
       "            background-color:  yellow;\n",
       "            background-color:  lightgrey;\n",
       "        }</style><table id=\"T_cf8a7765_2011_11eb_b2f5_4074e025615a\" ><thead>    <tr>        <th class=\"blank level0\" ></th>        <th class=\"col_heading level0 col0\" >Model</th>        <th class=\"col_heading level0 col1\" >MAE</th>        <th class=\"col_heading level0 col2\" >MSE</th>        <th class=\"col_heading level0 col3\" >RMSE</th>        <th class=\"col_heading level0 col4\" >R2</th>        <th class=\"col_heading level0 col5\" >RMSLE</th>        <th class=\"col_heading level0 col6\" >MAPE</th>        <th class=\"col_heading level0 col7\" >TT (Sec)</th>    </tr></thead><tbody>\n",
       "                <tr>\n",
       "                        <th id=\"T_cf8a7765_2011_11eb_b2f5_4074e025615alevel0_row0\" class=\"row_heading level0 row0\" >gbr</th>\n",
       "                        <td id=\"T_cf8a7765_2011_11eb_b2f5_4074e025615arow0_col0\" class=\"data row0 col0\" >Gradient Boosting Regressor</td>\n",
       "                        <td id=\"T_cf8a7765_2011_11eb_b2f5_4074e025615arow0_col1\" class=\"data row0 col1\" >23421.4955</td>\n",
       "                        <td id=\"T_cf8a7765_2011_11eb_b2f5_4074e025615arow0_col2\" class=\"data row0 col2\" >1960548879.7775</td>\n",
       "                        <td id=\"T_cf8a7765_2011_11eb_b2f5_4074e025615arow0_col3\" class=\"data row0 col3\" >43998.5567</td>\n",
       "                        <td id=\"T_cf8a7765_2011_11eb_b2f5_4074e025615arow0_col4\" class=\"data row0 col4\" >0.8533</td>\n",
       "                        <td id=\"T_cf8a7765_2011_11eb_b2f5_4074e025615arow0_col5\" class=\"data row0 col5\" >0.3839</td>\n",
       "                        <td id=\"T_cf8a7765_2011_11eb_b2f5_4074e025615arow0_col6\" class=\"data row0 col6\" >0.2557</td>\n",
       "                        <td id=\"T_cf8a7765_2011_11eb_b2f5_4074e025615arow0_col7\" class=\"data row0 col7\" >0.1120</td>\n",
       "            </tr>\n",
       "            <tr>\n",
       "                        <th id=\"T_cf8a7765_2011_11eb_b2f5_4074e025615alevel0_row1\" class=\"row_heading level0 row1\" >ridge</th>\n",
       "                        <td id=\"T_cf8a7765_2011_11eb_b2f5_4074e025615arow1_col0\" class=\"data row1 col0\" >Ridge Regression</td>\n",
       "                        <td id=\"T_cf8a7765_2011_11eb_b2f5_4074e025615arow1_col1\" class=\"data row1 col1\" >27128.3490</td>\n",
       "                        <td id=\"T_cf8a7765_2011_11eb_b2f5_4074e025615arow1_col2\" class=\"data row1 col2\" >2053020736.0000</td>\n",
       "                        <td id=\"T_cf8a7765_2011_11eb_b2f5_4074e025615arow1_col3\" class=\"data row1 col3\" >45077.6918</td>\n",
       "                        <td id=\"T_cf8a7765_2011_11eb_b2f5_4074e025615arow1_col4\" class=\"data row1 col4\" >0.8474</td>\n",
       "                        <td id=\"T_cf8a7765_2011_11eb_b2f5_4074e025615arow1_col5\" class=\"data row1 col5\" >0.3905</td>\n",
       "                        <td id=\"T_cf8a7765_2011_11eb_b2f5_4074e025615arow1_col6\" class=\"data row1 col6\" >0.2690</td>\n",
       "                        <td id=\"T_cf8a7765_2011_11eb_b2f5_4074e025615arow1_col7\" class=\"data row1 col7\" >0.0180</td>\n",
       "            </tr>\n",
       "            <tr>\n",
       "                        <th id=\"T_cf8a7765_2011_11eb_b2f5_4074e025615alevel0_row2\" class=\"row_heading level0 row2\" >br</th>\n",
       "                        <td id=\"T_cf8a7765_2011_11eb_b2f5_4074e025615arow2_col0\" class=\"data row2 col0\" >Bayesian Ridge</td>\n",
       "                        <td id=\"T_cf8a7765_2011_11eb_b2f5_4074e025615arow2_col1\" class=\"data row2 col1\" >27214.1280</td>\n",
       "                        <td id=\"T_cf8a7765_2011_11eb_b2f5_4074e025615arow2_col2\" class=\"data row2 col2\" >2053291891.3642</td>\n",
       "                        <td id=\"T_cf8a7765_2011_11eb_b2f5_4074e025615arow2_col3\" class=\"data row2 col3\" >45073.2835</td>\n",
       "                        <td id=\"T_cf8a7765_2011_11eb_b2f5_4074e025615arow2_col4\" class=\"data row2 col4\" >0.8474</td>\n",
       "                        <td id=\"T_cf8a7765_2011_11eb_b2f5_4074e025615arow2_col5\" class=\"data row2 col5\" >0.3894</td>\n",
       "                        <td id=\"T_cf8a7765_2011_11eb_b2f5_4074e025615arow2_col6\" class=\"data row2 col6\" >0.2702</td>\n",
       "                        <td id=\"T_cf8a7765_2011_11eb_b2f5_4074e025615arow2_col7\" class=\"data row2 col7\" >0.0150</td>\n",
       "            </tr>\n",
       "            <tr>\n",
       "                        <th id=\"T_cf8a7765_2011_11eb_b2f5_4074e025615alevel0_row3\" class=\"row_heading level0 row3\" >lasso</th>\n",
       "                        <td id=\"T_cf8a7765_2011_11eb_b2f5_4074e025615arow3_col0\" class=\"data row3 col0\" >Lasso Regression</td>\n",
       "                        <td id=\"T_cf8a7765_2011_11eb_b2f5_4074e025615arow3_col1\" class=\"data row3 col1\" >27218.8184</td>\n",
       "                        <td id=\"T_cf8a7765_2011_11eb_b2f5_4074e025615arow3_col2\" class=\"data row3 col2\" >2072567155.2000</td>\n",
       "                        <td id=\"T_cf8a7765_2011_11eb_b2f5_4074e025615arow3_col3\" class=\"data row3 col3\" >45316.6992</td>\n",
       "                        <td id=\"T_cf8a7765_2011_11eb_b2f5_4074e025615arow3_col4\" class=\"data row3 col4\" >0.8458</td>\n",
       "                        <td id=\"T_cf8a7765_2011_11eb_b2f5_4074e025615arow3_col5\" class=\"data row3 col5\" >0.3975</td>\n",
       "                        <td id=\"T_cf8a7765_2011_11eb_b2f5_4074e025615arow3_col6\" class=\"data row3 col6\" >0.2706</td>\n",
       "                        <td id=\"T_cf8a7765_2011_11eb_b2f5_4074e025615arow3_col7\" class=\"data row3 col7\" >0.0390</td>\n",
       "            </tr>\n",
       "            <tr>\n",
       "                        <th id=\"T_cf8a7765_2011_11eb_b2f5_4074e025615alevel0_row4\" class=\"row_heading level0 row4\" >lr</th>\n",
       "                        <td id=\"T_cf8a7765_2011_11eb_b2f5_4074e025615arow4_col0\" class=\"data row4 col0\" >Linear Regression</td>\n",
       "                        <td id=\"T_cf8a7765_2011_11eb_b2f5_4074e025615arow4_col1\" class=\"data row4 col1\" >27234.7107</td>\n",
       "                        <td id=\"T_cf8a7765_2011_11eb_b2f5_4074e025615arow4_col2\" class=\"data row4 col2\" >2074005260.8000</td>\n",
       "                        <td id=\"T_cf8a7765_2011_11eb_b2f5_4074e025615arow4_col3\" class=\"data row4 col3\" >45332.9969</td>\n",
       "                        <td id=\"T_cf8a7765_2011_11eb_b2f5_4074e025615arow4_col4\" class=\"data row4 col4\" >0.8457</td>\n",
       "                        <td id=\"T_cf8a7765_2011_11eb_b2f5_4074e025615arow4_col5\" class=\"data row4 col5\" >0.3980</td>\n",
       "                        <td id=\"T_cf8a7765_2011_11eb_b2f5_4074e025615arow4_col6\" class=\"data row4 col6\" >0.2709</td>\n",
       "                        <td id=\"T_cf8a7765_2011_11eb_b2f5_4074e025615arow4_col7\" class=\"data row4 col7\" >1.1440</td>\n",
       "            </tr>\n",
       "            <tr>\n",
       "                        <th id=\"T_cf8a7765_2011_11eb_b2f5_4074e025615alevel0_row5\" class=\"row_heading level0 row5\" >llar</th>\n",
       "                        <td id=\"T_cf8a7765_2011_11eb_b2f5_4074e025615arow5_col0\" class=\"data row5 col0\" >Lasso Least Angle Regression</td>\n",
       "                        <td id=\"T_cf8a7765_2011_11eb_b2f5_4074e025615arow5_col1\" class=\"data row5 col1\" >27618.2097</td>\n",
       "                        <td id=\"T_cf8a7765_2011_11eb_b2f5_4074e025615arow5_col2\" class=\"data row5 col2\" >2092292457.9736</td>\n",
       "                        <td id=\"T_cf8a7765_2011_11eb_b2f5_4074e025615arow5_col3\" class=\"data row5 col3\" >45564.9178</td>\n",
       "                        <td id=\"T_cf8a7765_2011_11eb_b2f5_4074e025615arow5_col4\" class=\"data row5 col4\" >0.8457</td>\n",
       "                        <td id=\"T_cf8a7765_2011_11eb_b2f5_4074e025615arow5_col5\" class=\"data row5 col5\" >0.4001</td>\n",
       "                        <td id=\"T_cf8a7765_2011_11eb_b2f5_4074e025615arow5_col6\" class=\"data row5 col6\" >0.2810</td>\n",
       "                        <td id=\"T_cf8a7765_2011_11eb_b2f5_4074e025615arow5_col7\" class=\"data row5 col7\" >0.0280</td>\n",
       "            </tr>\n",
       "            <tr>\n",
       "                        <th id=\"T_cf8a7765_2011_11eb_b2f5_4074e025615alevel0_row6\" class=\"row_heading level0 row6\" >omp</th>\n",
       "                        <td id=\"T_cf8a7765_2011_11eb_b2f5_4074e025615arow6_col0\" class=\"data row6 col0\" >Orthogonal Matching Pursuit</td>\n",
       "                        <td id=\"T_cf8a7765_2011_11eb_b2f5_4074e025615arow6_col1\" class=\"data row6 col1\" >26449.0516</td>\n",
       "                        <td id=\"T_cf8a7765_2011_11eb_b2f5_4074e025615arow6_col2\" class=\"data row6 col2\" >2094855853.3856</td>\n",
       "                        <td id=\"T_cf8a7765_2011_11eb_b2f5_4074e025615arow6_col3\" class=\"data row6 col3\" >45577.4956</td>\n",
       "                        <td id=\"T_cf8a7765_2011_11eb_b2f5_4074e025615arow6_col4\" class=\"data row6 col4\" >0.8454</td>\n",
       "                        <td id=\"T_cf8a7765_2011_11eb_b2f5_4074e025615arow6_col5\" class=\"data row6 col5\" >0.3657</td>\n",
       "                        <td id=\"T_cf8a7765_2011_11eb_b2f5_4074e025615arow6_col6\" class=\"data row6 col6\" >0.2470</td>\n",
       "                        <td id=\"T_cf8a7765_2011_11eb_b2f5_4074e025615arow6_col7\" class=\"data row6 col7\" >0.0140</td>\n",
       "            </tr>\n",
       "            <tr>\n",
       "                        <th id=\"T_cf8a7765_2011_11eb_b2f5_4074e025615alevel0_row7\" class=\"row_heading level0 row7\" >rf</th>\n",
       "                        <td id=\"T_cf8a7765_2011_11eb_b2f5_4074e025615arow7_col0\" class=\"data row7 col0\" >Random Forest Regressor</td>\n",
       "                        <td id=\"T_cf8a7765_2011_11eb_b2f5_4074e025615arow7_col1\" class=\"data row7 col1\" >24074.6798</td>\n",
       "                        <td id=\"T_cf8a7765_2011_11eb_b2f5_4074e025615arow7_col2\" class=\"data row7 col2\" >2075541994.6691</td>\n",
       "                        <td id=\"T_cf8a7765_2011_11eb_b2f5_4074e025615arow7_col3\" class=\"data row7 col3\" >45217.4428</td>\n",
       "                        <td id=\"T_cf8a7765_2011_11eb_b2f5_4074e025615arow7_col4\" class=\"data row7 col4\" >0.8441</td>\n",
       "                        <td id=\"T_cf8a7765_2011_11eb_b2f5_4074e025615arow7_col5\" class=\"data row7 col5\" >0.4135</td>\n",
       "                        <td id=\"T_cf8a7765_2011_11eb_b2f5_4074e025615arow7_col6\" class=\"data row7 col6\" >0.2651</td>\n",
       "                        <td id=\"T_cf8a7765_2011_11eb_b2f5_4074e025615arow7_col7\" class=\"data row7 col7\" >0.2820</td>\n",
       "            </tr>\n",
       "            <tr>\n",
       "                        <th id=\"T_cf8a7765_2011_11eb_b2f5_4074e025615alevel0_row8\" class=\"row_heading level0 row8\" >lightgbm</th>\n",
       "                        <td id=\"T_cf8a7765_2011_11eb_b2f5_4074e025615arow8_col0\" class=\"data row8 col0\" >Light Gradient Boosting Machine</td>\n",
       "                        <td id=\"T_cf8a7765_2011_11eb_b2f5_4074e025615arow8_col1\" class=\"data row8 col1\" >26624.6181</td>\n",
       "                        <td id=\"T_cf8a7765_2011_11eb_b2f5_4074e025615arow8_col2\" class=\"data row8 col2\" >2090154141.4787</td>\n",
       "                        <td id=\"T_cf8a7765_2011_11eb_b2f5_4074e025615arow8_col3\" class=\"data row8 col3\" >45394.2828</td>\n",
       "                        <td id=\"T_cf8a7765_2011_11eb_b2f5_4074e025615arow8_col4\" class=\"data row8 col4\" >0.8432</td>\n",
       "                        <td id=\"T_cf8a7765_2011_11eb_b2f5_4074e025615arow8_col5\" class=\"data row8 col5\" >0.4663</td>\n",
       "                        <td id=\"T_cf8a7765_2011_11eb_b2f5_4074e025615arow8_col6\" class=\"data row8 col6\" >0.3209</td>\n",
       "                        <td id=\"T_cf8a7765_2011_11eb_b2f5_4074e025615arow8_col7\" class=\"data row8 col7\" >0.0600</td>\n",
       "            </tr>\n",
       "            <tr>\n",
       "                        <th id=\"T_cf8a7765_2011_11eb_b2f5_4074e025615alevel0_row9\" class=\"row_heading level0 row9\" >catboost</th>\n",
       "                        <td id=\"T_cf8a7765_2011_11eb_b2f5_4074e025615arow9_col0\" class=\"data row9 col0\" >CatBoost Regressor</td>\n",
       "                        <td id=\"T_cf8a7765_2011_11eb_b2f5_4074e025615arow9_col1\" class=\"data row9 col1\" >25638.7578</td>\n",
       "                        <td id=\"T_cf8a7765_2011_11eb_b2f5_4074e025615arow9_col2\" class=\"data row9 col2\" >2211972996.3647</td>\n",
       "                        <td id=\"T_cf8a7765_2011_11eb_b2f5_4074e025615arow9_col3\" class=\"data row9 col3\" >46755.1744</td>\n",
       "                        <td id=\"T_cf8a7765_2011_11eb_b2f5_4074e025615arow9_col4\" class=\"data row9 col4\" >0.8354</td>\n",
       "                        <td id=\"T_cf8a7765_2011_11eb_b2f5_4074e025615arow9_col5\" class=\"data row9 col5\" >0.4252</td>\n",
       "                        <td id=\"T_cf8a7765_2011_11eb_b2f5_4074e025615arow9_col6\" class=\"data row9 col6\" >0.2981</td>\n",
       "                        <td id=\"T_cf8a7765_2011_11eb_b2f5_4074e025615arow9_col7\" class=\"data row9 col7\" >3.4420</td>\n",
       "            </tr>\n",
       "            <tr>\n",
       "                        <th id=\"T_cf8a7765_2011_11eb_b2f5_4074e025615alevel0_row10\" class=\"row_heading level0 row10\" >huber</th>\n",
       "                        <td id=\"T_cf8a7765_2011_11eb_b2f5_4074e025615arow10_col0\" class=\"data row10 col0\" >Huber Regressor</td>\n",
       "                        <td id=\"T_cf8a7765_2011_11eb_b2f5_4074e025615arow10_col1\" class=\"data row10 col1\" >17720.7654</td>\n",
       "                        <td id=\"T_cf8a7765_2011_11eb_b2f5_4074e025615arow10_col2\" class=\"data row10 col2\" >2247008294.8968</td>\n",
       "                        <td id=\"T_cf8a7765_2011_11eb_b2f5_4074e025615arow10_col3\" class=\"data row10 col3\" >47034.1549</td>\n",
       "                        <td id=\"T_cf8a7765_2011_11eb_b2f5_4074e025615arow10_col4\" class=\"data row10 col4\" >0.8344</td>\n",
       "                        <td id=\"T_cf8a7765_2011_11eb_b2f5_4074e025615arow10_col5\" class=\"data row10 col5\" >0.3377</td>\n",
       "                        <td id=\"T_cf8a7765_2011_11eb_b2f5_4074e025615arow10_col6\" class=\"data row10 col6\" >0.0692</td>\n",
       "                        <td id=\"T_cf8a7765_2011_11eb_b2f5_4074e025615arow10_col7\" class=\"data row10 col7\" >0.0520</td>\n",
       "            </tr>\n",
       "            <tr>\n",
       "                        <th id=\"T_cf8a7765_2011_11eb_b2f5_4074e025615alevel0_row11\" class=\"row_heading level0 row11\" >xgboost</th>\n",
       "                        <td id=\"T_cf8a7765_2011_11eb_b2f5_4074e025615arow11_col0\" class=\"data row11 col0\" >Extreme Gradient Boosting</td>\n",
       "                        <td id=\"T_cf8a7765_2011_11eb_b2f5_4074e025615arow11_col1\" class=\"data row11 col1\" >26794.2012</td>\n",
       "                        <td id=\"T_cf8a7765_2011_11eb_b2f5_4074e025615arow11_col2\" class=\"data row11 col2\" >2465816627.2000</td>\n",
       "                        <td id=\"T_cf8a7765_2011_11eb_b2f5_4074e025615arow11_col3\" class=\"data row11 col3\" >49407.3285</td>\n",
       "                        <td id=\"T_cf8a7765_2011_11eb_b2f5_4074e025615arow11_col4\" class=\"data row11 col4\" >0.8149</td>\n",
       "                        <td id=\"T_cf8a7765_2011_11eb_b2f5_4074e025615arow11_col5\" class=\"data row11 col5\" >0.4478</td>\n",
       "                        <td id=\"T_cf8a7765_2011_11eb_b2f5_4074e025615arow11_col6\" class=\"data row11 col6\" >0.3164</td>\n",
       "                        <td id=\"T_cf8a7765_2011_11eb_b2f5_4074e025615arow11_col7\" class=\"data row11 col7\" >0.4150</td>\n",
       "            </tr>\n",
       "            <tr>\n",
       "                        <th id=\"T_cf8a7765_2011_11eb_b2f5_4074e025615alevel0_row12\" class=\"row_heading level0 row12\" >et</th>\n",
       "                        <td id=\"T_cf8a7765_2011_11eb_b2f5_4074e025615arow12_col0\" class=\"data row12 col0\" >Extra Trees Regressor</td>\n",
       "                        <td id=\"T_cf8a7765_2011_11eb_b2f5_4074e025615arow12_col1\" class=\"data row12 col1\" >25050.5539</td>\n",
       "                        <td id=\"T_cf8a7765_2011_11eb_b2f5_4074e025615arow12_col2\" class=\"data row12 col2\" >2483736839.6197</td>\n",
       "                        <td id=\"T_cf8a7765_2011_11eb_b2f5_4074e025615arow12_col3\" class=\"data row12 col3\" >49546.7822</td>\n",
       "                        <td id=\"T_cf8a7765_2011_11eb_b2f5_4074e025615arow12_col4\" class=\"data row12 col4\" >0.8139</td>\n",
       "                        <td id=\"T_cf8a7765_2011_11eb_b2f5_4074e025615arow12_col5\" class=\"data row12 col5\" >0.4439</td>\n",
       "                        <td id=\"T_cf8a7765_2011_11eb_b2f5_4074e025615arow12_col6\" class=\"data row12 col6\" >0.2813</td>\n",
       "                        <td id=\"T_cf8a7765_2011_11eb_b2f5_4074e025615arow12_col7\" class=\"data row12 col7\" >0.2420</td>\n",
       "            </tr>\n",
       "            <tr>\n",
       "                        <th id=\"T_cf8a7765_2011_11eb_b2f5_4074e025615alevel0_row13\" class=\"row_heading level0 row13\" >dt</th>\n",
       "                        <td id=\"T_cf8a7765_2011_11eb_b2f5_4074e025615arow13_col0\" class=\"data row13 col0\" >Decision Tree Regressor</td>\n",
       "                        <td id=\"T_cf8a7765_2011_11eb_b2f5_4074e025615arow13_col1\" class=\"data row13 col1\" >27975.2691</td>\n",
       "                        <td id=\"T_cf8a7765_2011_11eb_b2f5_4074e025615arow13_col2\" class=\"data row13 col2\" >3611511198.0319</td>\n",
       "                        <td id=\"T_cf8a7765_2011_11eb_b2f5_4074e025615arow13_col3\" class=\"data row13 col3\" >59177.6785</td>\n",
       "                        <td id=\"T_cf8a7765_2011_11eb_b2f5_4074e025615arow13_col4\" class=\"data row13 col4\" >0.7376</td>\n",
       "                        <td id=\"T_cf8a7765_2011_11eb_b2f5_4074e025615arow13_col5\" class=\"data row13 col5\" >0.4751</td>\n",
       "                        <td id=\"T_cf8a7765_2011_11eb_b2f5_4074e025615arow13_col6\" class=\"data row13 col6\" >0.3116</td>\n",
       "                        <td id=\"T_cf8a7765_2011_11eb_b2f5_4074e025615arow13_col7\" class=\"data row13 col7\" >0.0250</td>\n",
       "            </tr>\n",
       "            <tr>\n",
       "                        <th id=\"T_cf8a7765_2011_11eb_b2f5_4074e025615alevel0_row14\" class=\"row_heading level0 row14\" >ada</th>\n",
       "                        <td id=\"T_cf8a7765_2011_11eb_b2f5_4074e025615arow14_col0\" class=\"data row14 col0\" >AdaBoost Regressor</td>\n",
       "                        <td id=\"T_cf8a7765_2011_11eb_b2f5_4074e025615arow14_col1\" class=\"data row14 col1\" >54570.3061</td>\n",
       "                        <td id=\"T_cf8a7765_2011_11eb_b2f5_4074e025615arow14_col2\" class=\"data row14 col2\" >3776540092.7791</td>\n",
       "                        <td id=\"T_cf8a7765_2011_11eb_b2f5_4074e025615arow14_col3\" class=\"data row14 col3\" >60995.5756</td>\n",
       "                        <td id=\"T_cf8a7765_2011_11eb_b2f5_4074e025615arow14_col4\" class=\"data row14 col4\" >0.7233</td>\n",
       "                        <td id=\"T_cf8a7765_2011_11eb_b2f5_4074e025615arow14_col5\" class=\"data row14 col5\" >0.7718</td>\n",
       "                        <td id=\"T_cf8a7765_2011_11eb_b2f5_4074e025615arow14_col6\" class=\"data row14 col6\" >1.0818</td>\n",
       "                        <td id=\"T_cf8a7765_2011_11eb_b2f5_4074e025615arow14_col7\" class=\"data row14 col7\" >0.0560</td>\n",
       "            </tr>\n",
       "            <tr>\n",
       "                        <th id=\"T_cf8a7765_2011_11eb_b2f5_4074e025615alevel0_row15\" class=\"row_heading level0 row15\" >par</th>\n",
       "                        <td id=\"T_cf8a7765_2011_11eb_b2f5_4074e025615arow15_col0\" class=\"data row15 col0\" >Passive Aggressive Regressor</td>\n",
       "                        <td id=\"T_cf8a7765_2011_11eb_b2f5_4074e025615arow15_col1\" class=\"data row15 col1\" >27500.0228</td>\n",
       "                        <td id=\"T_cf8a7765_2011_11eb_b2f5_4074e025615arow15_col2\" class=\"data row15 col2\" >3928844591.3879</td>\n",
       "                        <td id=\"T_cf8a7765_2011_11eb_b2f5_4074e025615arow15_col3\" class=\"data row15 col3\" >62296.9648</td>\n",
       "                        <td id=\"T_cf8a7765_2011_11eb_b2f5_4074e025615arow15_col4\" class=\"data row15 col4\" >0.7209</td>\n",
       "                        <td id=\"T_cf8a7765_2011_11eb_b2f5_4074e025615arow15_col5\" class=\"data row15 col5\" >0.3668</td>\n",
       "                        <td id=\"T_cf8a7765_2011_11eb_b2f5_4074e025615arow15_col6\" class=\"data row15 col6\" >0.1029</td>\n",
       "                        <td id=\"T_cf8a7765_2011_11eb_b2f5_4074e025615arow15_col7\" class=\"data row15 col7\" >0.1050</td>\n",
       "            </tr>\n",
       "            <tr>\n",
       "                        <th id=\"T_cf8a7765_2011_11eb_b2f5_4074e025615alevel0_row16\" class=\"row_heading level0 row16\" >knn</th>\n",
       "                        <td id=\"T_cf8a7765_2011_11eb_b2f5_4074e025615arow16_col0\" class=\"data row16 col0\" >K Neighbors Regressor</td>\n",
       "                        <td id=\"T_cf8a7765_2011_11eb_b2f5_4074e025615arow16_col1\" class=\"data row16 col1\" >40498.3020</td>\n",
       "                        <td id=\"T_cf8a7765_2011_11eb_b2f5_4074e025615arow16_col2\" class=\"data row16 col2\" >4995514931.2000</td>\n",
       "                        <td id=\"T_cf8a7765_2011_11eb_b2f5_4074e025615arow16_col3\" class=\"data row16 col3\" >70086.7660</td>\n",
       "                        <td id=\"T_cf8a7765_2011_11eb_b2f5_4074e025615arow16_col4\" class=\"data row16 col4\" >0.6432</td>\n",
       "                        <td id=\"T_cf8a7765_2011_11eb_b2f5_4074e025615arow16_col5\" class=\"data row16 col5\" >0.5018</td>\n",
       "                        <td id=\"T_cf8a7765_2011_11eb_b2f5_4074e025615arow16_col6\" class=\"data row16 col6\" >0.3586</td>\n",
       "                        <td id=\"T_cf8a7765_2011_11eb_b2f5_4074e025615arow16_col7\" class=\"data row16 col7\" >0.0220</td>\n",
       "            </tr>\n",
       "            <tr>\n",
       "                        <th id=\"T_cf8a7765_2011_11eb_b2f5_4074e025615alevel0_row17\" class=\"row_heading level0 row17\" >en</th>\n",
       "                        <td id=\"T_cf8a7765_2011_11eb_b2f5_4074e025615arow17_col0\" class=\"data row17 col0\" >Elastic Net</td>\n",
       "                        <td id=\"T_cf8a7765_2011_11eb_b2f5_4074e025615arow17_col1\" class=\"data row17 col1\" >62061.1109</td>\n",
       "                        <td id=\"T_cf8a7765_2011_11eb_b2f5_4074e025615arow17_col2\" class=\"data row17 col2\" >6347559321.6000</td>\n",
       "                        <td id=\"T_cf8a7765_2011_11eb_b2f5_4074e025615arow17_col3\" class=\"data row17 col3\" >79398.8953</td>\n",
       "                        <td id=\"T_cf8a7765_2011_11eb_b2f5_4074e025615arow17_col4\" class=\"data row17 col4\" >0.5478</td>\n",
       "                        <td id=\"T_cf8a7765_2011_11eb_b2f5_4074e025615arow17_col5\" class=\"data row17 col5\" >0.7027</td>\n",
       "                        <td id=\"T_cf8a7765_2011_11eb_b2f5_4074e025615arow17_col6\" class=\"data row17 col6\" >0.8769</td>\n",
       "                        <td id=\"T_cf8a7765_2011_11eb_b2f5_4074e025615arow17_col7\" class=\"data row17 col7\" >0.0310</td>\n",
       "            </tr>\n",
       "            <tr>\n",
       "                        <th id=\"T_cf8a7765_2011_11eb_b2f5_4074e025615alevel0_row18\" class=\"row_heading level0 row18\" >lar</th>\n",
       "                        <td id=\"T_cf8a7765_2011_11eb_b2f5_4074e025615arow18_col0\" class=\"data row18 col0\" >Least Angle Regression</td>\n",
       "                        <td id=\"T_cf8a7765_2011_11eb_b2f5_4074e025615arow18_col1\" class=\"data row18 col1\" >1521275233.2444</td>\n",
       "                        <td id=\"T_cf8a7765_2011_11eb_b2f5_4074e025615arow18_col2\" class=\"data row18 col2\" >50670421759255920640.0000</td>\n",
       "                        <td id=\"T_cf8a7765_2011_11eb_b2f5_4074e025615arow18_col3\" class=\"data row18 col3\" >2404303600.8844</td>\n",
       "                        <td id=\"T_cf8a7765_2011_11eb_b2f5_4074e025615arow18_col4\" class=\"data row18 col4\" >-3986865987.4798</td>\n",
       "                        <td id=\"T_cf8a7765_2011_11eb_b2f5_4074e025615arow18_col5\" class=\"data row18 col5\" >2.6329</td>\n",
       "                        <td id=\"T_cf8a7765_2011_11eb_b2f5_4074e025615arow18_col6\" class=\"data row18 col6\" >18071.1366</td>\n",
       "                        <td id=\"T_cf8a7765_2011_11eb_b2f5_4074e025615arow18_col7\" class=\"data row18 col7\" >0.0180</td>\n",
       "            </tr>\n",
       "    </tbody></table>"
      ],
      "text/plain": [
       "<pandas.io.formats.style.Styler at 0x20d4f58ef40>"
      ]
     },
     "metadata": {},
     "output_type": "display_data"
    },
    {
     "data": {
      "text/plain": [
       "GradientBoostingRegressor(alpha=0.9, ccp_alpha=0.0, criterion='friedman_mse',\n",
       "                          init=None, learning_rate=0.1, loss='ls', max_depth=3,\n",
       "                          max_features=None, max_leaf_nodes=None,\n",
       "                          min_impurity_decrease=0.0, min_impurity_split=None,\n",
       "                          min_samples_leaf=1, min_samples_split=2,\n",
       "                          min_weight_fraction_leaf=0.0, n_estimators=100,\n",
       "                          n_iter_no_change=None, presort='deprecated',\n",
       "                          random_state=123, subsample=1.0, tol=0.0001,\n",
       "                          validation_fraction=0.1, verbose=0, warm_start=False)"
      ]
     },
     "execution_count": 20,
     "metadata": {},
     "output_type": "execute_result"
    }
   ],
   "source": [
    "compare_models()"
   ]
  },
  {
   "cell_type": "code",
   "execution_count": 21,
   "metadata": {
    "scrolled": false
   },
   "outputs": [
    {
     "data": {
      "text/html": [
       "<style  type=\"text/css\" >\n",
       "#T_d09da1ec_2011_11eb_9326_4074e025615arow10_col0,#T_d09da1ec_2011_11eb_9326_4074e025615arow10_col1,#T_d09da1ec_2011_11eb_9326_4074e025615arow10_col2,#T_d09da1ec_2011_11eb_9326_4074e025615arow10_col3,#T_d09da1ec_2011_11eb_9326_4074e025615arow10_col4,#T_d09da1ec_2011_11eb_9326_4074e025615arow10_col5{\n",
       "            background:  yellow;\n",
       "        }</style><table id=\"T_d09da1ec_2011_11eb_9326_4074e025615a\" ><thead>    <tr>        <th class=\"blank level0\" ></th>        <th class=\"col_heading level0 col0\" >MAE</th>        <th class=\"col_heading level0 col1\" >MSE</th>        <th class=\"col_heading level0 col2\" >RMSE</th>        <th class=\"col_heading level0 col3\" >R2</th>        <th class=\"col_heading level0 col4\" >RMSLE</th>        <th class=\"col_heading level0 col5\" >MAPE</th>    </tr></thead><tbody>\n",
       "                <tr>\n",
       "                        <th id=\"T_d09da1ec_2011_11eb_9326_4074e025615alevel0_row0\" class=\"row_heading level0 row0\" >0</th>\n",
       "                        <td id=\"T_d09da1ec_2011_11eb_9326_4074e025615arow0_col0\" class=\"data row0 col0\" >18927.1294</td>\n",
       "                        <td id=\"T_d09da1ec_2011_11eb_9326_4074e025615arow0_col1\" class=\"data row0 col1\" >1564802379.0833</td>\n",
       "                        <td id=\"T_d09da1ec_2011_11eb_9326_4074e025615arow0_col2\" class=\"data row0 col2\" >39557.5831</td>\n",
       "                        <td id=\"T_d09da1ec_2011_11eb_9326_4074e025615arow0_col3\" class=\"data row0 col3\" >0.8776</td>\n",
       "                        <td id=\"T_d09da1ec_2011_11eb_9326_4074e025615arow0_col4\" class=\"data row0 col4\" >0.3433</td>\n",
       "                        <td id=\"T_d09da1ec_2011_11eb_9326_4074e025615arow0_col5\" class=\"data row0 col5\" >0.2014</td>\n",
       "            </tr>\n",
       "            <tr>\n",
       "                        <th id=\"T_d09da1ec_2011_11eb_9326_4074e025615alevel0_row1\" class=\"row_heading level0 row1\" >1</th>\n",
       "                        <td id=\"T_d09da1ec_2011_11eb_9326_4074e025615arow1_col0\" class=\"data row1 col0\" >19879.6520</td>\n",
       "                        <td id=\"T_d09da1ec_2011_11eb_9326_4074e025615arow1_col1\" class=\"data row1 col1\" >1382185237.1259</td>\n",
       "                        <td id=\"T_d09da1ec_2011_11eb_9326_4074e025615arow1_col2\" class=\"data row1 col2\" >37177.7519</td>\n",
       "                        <td id=\"T_d09da1ec_2011_11eb_9326_4074e025615arow1_col3\" class=\"data row1 col3\" >0.9210</td>\n",
       "                        <td id=\"T_d09da1ec_2011_11eb_9326_4074e025615arow1_col4\" class=\"data row1 col4\" >0.2888</td>\n",
       "                        <td id=\"T_d09da1ec_2011_11eb_9326_4074e025615arow1_col5\" class=\"data row1 col5\" >0.1976</td>\n",
       "            </tr>\n",
       "            <tr>\n",
       "                        <th id=\"T_d09da1ec_2011_11eb_9326_4074e025615alevel0_row2\" class=\"row_heading level0 row2\" >2</th>\n",
       "                        <td id=\"T_d09da1ec_2011_11eb_9326_4074e025615arow2_col0\" class=\"data row2 col0\" >23482.7758</td>\n",
       "                        <td id=\"T_d09da1ec_2011_11eb_9326_4074e025615arow2_col1\" class=\"data row2 col1\" >2182878585.1593</td>\n",
       "                        <td id=\"T_d09da1ec_2011_11eb_9326_4074e025615arow2_col2\" class=\"data row2 col2\" >46721.2862</td>\n",
       "                        <td id=\"T_d09da1ec_2011_11eb_9326_4074e025615arow2_col3\" class=\"data row2 col3\" >0.7204</td>\n",
       "                        <td id=\"T_d09da1ec_2011_11eb_9326_4074e025615arow2_col4\" class=\"data row2 col4\" >0.4387</td>\n",
       "                        <td id=\"T_d09da1ec_2011_11eb_9326_4074e025615arow2_col5\" class=\"data row2 col5\" >0.2084</td>\n",
       "            </tr>\n",
       "            <tr>\n",
       "                        <th id=\"T_d09da1ec_2011_11eb_9326_4074e025615alevel0_row3\" class=\"row_heading level0 row3\" >3</th>\n",
       "                        <td id=\"T_d09da1ec_2011_11eb_9326_4074e025615arow3_col0\" class=\"data row3 col0\" >24635.6176</td>\n",
       "                        <td id=\"T_d09da1ec_2011_11eb_9326_4074e025615arow3_col1\" class=\"data row3 col1\" >2058057561.0187</td>\n",
       "                        <td id=\"T_d09da1ec_2011_11eb_9326_4074e025615arow3_col2\" class=\"data row3 col2\" >45365.8193</td>\n",
       "                        <td id=\"T_d09da1ec_2011_11eb_9326_4074e025615arow3_col3\" class=\"data row3 col3\" >0.8556</td>\n",
       "                        <td id=\"T_d09da1ec_2011_11eb_9326_4074e025615arow3_col4\" class=\"data row3 col4\" >0.3832</td>\n",
       "                        <td id=\"T_d09da1ec_2011_11eb_9326_4074e025615arow3_col5\" class=\"data row3 col5\" >0.2667</td>\n",
       "            </tr>\n",
       "            <tr>\n",
       "                        <th id=\"T_d09da1ec_2011_11eb_9326_4074e025615alevel0_row4\" class=\"row_heading level0 row4\" >4</th>\n",
       "                        <td id=\"T_d09da1ec_2011_11eb_9326_4074e025615arow4_col0\" class=\"data row4 col0\" >23348.3248</td>\n",
       "                        <td id=\"T_d09da1ec_2011_11eb_9326_4074e025615arow4_col1\" class=\"data row4 col1\" >1564248579.1586</td>\n",
       "                        <td id=\"T_d09da1ec_2011_11eb_9326_4074e025615arow4_col2\" class=\"data row4 col2\" >39550.5825</td>\n",
       "                        <td id=\"T_d09da1ec_2011_11eb_9326_4074e025615arow4_col3\" class=\"data row4 col3\" >0.9178</td>\n",
       "                        <td id=\"T_d09da1ec_2011_11eb_9326_4074e025615arow4_col4\" class=\"data row4 col4\" >0.3840</td>\n",
       "                        <td id=\"T_d09da1ec_2011_11eb_9326_4074e025615arow4_col5\" class=\"data row4 col5\" >0.2810</td>\n",
       "            </tr>\n",
       "            <tr>\n",
       "                        <th id=\"T_d09da1ec_2011_11eb_9326_4074e025615alevel0_row5\" class=\"row_heading level0 row5\" >5</th>\n",
       "                        <td id=\"T_d09da1ec_2011_11eb_9326_4074e025615arow5_col0\" class=\"data row5 col0\" >24436.0279</td>\n",
       "                        <td id=\"T_d09da1ec_2011_11eb_9326_4074e025615arow5_col1\" class=\"data row5 col1\" >2471839589.1121</td>\n",
       "                        <td id=\"T_d09da1ec_2011_11eb_9326_4074e025615arow5_col2\" class=\"data row5 col2\" >49717.5984</td>\n",
       "                        <td id=\"T_d09da1ec_2011_11eb_9326_4074e025615arow5_col3\" class=\"data row5 col3\" >0.8496</td>\n",
       "                        <td id=\"T_d09da1ec_2011_11eb_9326_4074e025615arow5_col4\" class=\"data row5 col4\" >0.3957</td>\n",
       "                        <td id=\"T_d09da1ec_2011_11eb_9326_4074e025615arow5_col5\" class=\"data row5 col5\" >0.2737</td>\n",
       "            </tr>\n",
       "            <tr>\n",
       "                        <th id=\"T_d09da1ec_2011_11eb_9326_4074e025615alevel0_row6\" class=\"row_heading level0 row6\" >6</th>\n",
       "                        <td id=\"T_d09da1ec_2011_11eb_9326_4074e025615arow6_col0\" class=\"data row6 col0\" >25524.5246</td>\n",
       "                        <td id=\"T_d09da1ec_2011_11eb_9326_4074e025615arow6_col1\" class=\"data row6 col1\" >2259383733.3943</td>\n",
       "                        <td id=\"T_d09da1ec_2011_11eb_9326_4074e025615arow6_col2\" class=\"data row6 col2\" >47532.9752</td>\n",
       "                        <td id=\"T_d09da1ec_2011_11eb_9326_4074e025615arow6_col3\" class=\"data row6 col3\" >0.8361</td>\n",
       "                        <td id=\"T_d09da1ec_2011_11eb_9326_4074e025615arow6_col4\" class=\"data row6 col4\" >0.3888</td>\n",
       "                        <td id=\"T_d09da1ec_2011_11eb_9326_4074e025615arow6_col5\" class=\"data row6 col5\" >0.2347</td>\n",
       "            </tr>\n",
       "            <tr>\n",
       "                        <th id=\"T_d09da1ec_2011_11eb_9326_4074e025615alevel0_row7\" class=\"row_heading level0 row7\" >7</th>\n",
       "                        <td id=\"T_d09da1ec_2011_11eb_9326_4074e025615arow7_col0\" class=\"data row7 col0\" >27069.8313</td>\n",
       "                        <td id=\"T_d09da1ec_2011_11eb_9326_4074e025615arow7_col1\" class=\"data row7 col1\" >2282348012.5104</td>\n",
       "                        <td id=\"T_d09da1ec_2011_11eb_9326_4074e025615arow7_col2\" class=\"data row7 col2\" >47773.9261</td>\n",
       "                        <td id=\"T_d09da1ec_2011_11eb_9326_4074e025615arow7_col3\" class=\"data row7 col3\" >0.8062</td>\n",
       "                        <td id=\"T_d09da1ec_2011_11eb_9326_4074e025615arow7_col4\" class=\"data row7 col4\" >0.4128</td>\n",
       "                        <td id=\"T_d09da1ec_2011_11eb_9326_4074e025615arow7_col5\" class=\"data row7 col5\" >0.3355</td>\n",
       "            </tr>\n",
       "            <tr>\n",
       "                        <th id=\"T_d09da1ec_2011_11eb_9326_4074e025615alevel0_row8\" class=\"row_heading level0 row8\" >8</th>\n",
       "                        <td id=\"T_d09da1ec_2011_11eb_9326_4074e025615arow8_col0\" class=\"data row8 col0\" >21168.1532</td>\n",
       "                        <td id=\"T_d09da1ec_2011_11eb_9326_4074e025615arow8_col1\" class=\"data row8 col1\" >1335803023.0993</td>\n",
       "                        <td id=\"T_d09da1ec_2011_11eb_9326_4074e025615arow8_col2\" class=\"data row8 col2\" >36548.6391</td>\n",
       "                        <td id=\"T_d09da1ec_2011_11eb_9326_4074e025615arow8_col3\" class=\"data row8 col3\" >0.8952</td>\n",
       "                        <td id=\"T_d09da1ec_2011_11eb_9326_4074e025615arow8_col4\" class=\"data row8 col4\" >0.4063</td>\n",
       "                        <td id=\"T_d09da1ec_2011_11eb_9326_4074e025615arow8_col5\" class=\"data row8 col5\" >0.2911</td>\n",
       "            </tr>\n",
       "            <tr>\n",
       "                        <th id=\"T_d09da1ec_2011_11eb_9326_4074e025615alevel0_row9\" class=\"row_heading level0 row9\" >9</th>\n",
       "                        <td id=\"T_d09da1ec_2011_11eb_9326_4074e025615arow9_col0\" class=\"data row9 col0\" >25742.9179</td>\n",
       "                        <td id=\"T_d09da1ec_2011_11eb_9326_4074e025615arow9_col1\" class=\"data row9 col1\" >2503942098.1135</td>\n",
       "                        <td id=\"T_d09da1ec_2011_11eb_9326_4074e025615arow9_col2\" class=\"data row9 col2\" >50039.4055</td>\n",
       "                        <td id=\"T_d09da1ec_2011_11eb_9326_4074e025615arow9_col3\" class=\"data row9 col3\" >0.8535</td>\n",
       "                        <td id=\"T_d09da1ec_2011_11eb_9326_4074e025615arow9_col4\" class=\"data row9 col4\" >0.3979</td>\n",
       "                        <td id=\"T_d09da1ec_2011_11eb_9326_4074e025615arow9_col5\" class=\"data row9 col5\" >0.2665</td>\n",
       "            </tr>\n",
       "            <tr>\n",
       "                        <th id=\"T_d09da1ec_2011_11eb_9326_4074e025615alevel0_row10\" class=\"row_heading level0 row10\" >Mean</th>\n",
       "                        <td id=\"T_d09da1ec_2011_11eb_9326_4074e025615arow10_col0\" class=\"data row10 col0\" >23421.4955</td>\n",
       "                        <td id=\"T_d09da1ec_2011_11eb_9326_4074e025615arow10_col1\" class=\"data row10 col1\" >1960548879.7775</td>\n",
       "                        <td id=\"T_d09da1ec_2011_11eb_9326_4074e025615arow10_col2\" class=\"data row10 col2\" >43998.5567</td>\n",
       "                        <td id=\"T_d09da1ec_2011_11eb_9326_4074e025615arow10_col3\" class=\"data row10 col3\" >0.8533</td>\n",
       "                        <td id=\"T_d09da1ec_2011_11eb_9326_4074e025615arow10_col4\" class=\"data row10 col4\" >0.3839</td>\n",
       "                        <td id=\"T_d09da1ec_2011_11eb_9326_4074e025615arow10_col5\" class=\"data row10 col5\" >0.2557</td>\n",
       "            </tr>\n",
       "            <tr>\n",
       "                        <th id=\"T_d09da1ec_2011_11eb_9326_4074e025615alevel0_row11\" class=\"row_heading level0 row11\" >SD</th>\n",
       "                        <td id=\"T_d09da1ec_2011_11eb_9326_4074e025615arow11_col0\" class=\"data row11 col0\" >2519.0494</td>\n",
       "                        <td id=\"T_d09da1ec_2011_11eb_9326_4074e025615arow11_col1\" class=\"data row11 col1\" >429763991.1884</td>\n",
       "                        <td id=\"T_d09da1ec_2011_11eb_9326_4074e025615arow11_col2\" class=\"data row11 col2\" >4967.4828</td>\n",
       "                        <td id=\"T_d09da1ec_2011_11eb_9326_4074e025615arow11_col3\" class=\"data row11 col3\" >0.0559</td>\n",
       "                        <td id=\"T_d09da1ec_2011_11eb_9326_4074e025615arow11_col4\" class=\"data row11 col4\" >0.0392</td>\n",
       "                        <td id=\"T_d09da1ec_2011_11eb_9326_4074e025615arow11_col5\" class=\"data row11 col5\" >0.0422</td>\n",
       "            </tr>\n",
       "    </tbody></table>"
      ],
      "text/plain": [
       "<pandas.io.formats.style.Styler at 0x20d26a1d5e0>"
      ]
     },
     "metadata": {},
     "output_type": "display_data"
    }
   ],
   "source": [
    "gbr = create_model('gbr')"
   ]
  },
  {
   "cell_type": "code",
   "execution_count": 22,
   "metadata": {
    "scrolled": true
   },
   "outputs": [
    {
     "data": {
      "image/png": "[encoded data removed]",
      "text/plain": [
       "<Figure size 576x396 with 2 Axes>"
      ]
     },
     "metadata": {},
     "output_type": "display_data"
    }
   ],
   "source": [
    "plot_model(gbr)"
   ]
  },
  {
   "cell_type": "code",
   "execution_count": 23,
   "metadata": {},
   "outputs": [
    {
     "data": {
      "image/png": "[encoded data removed]",
      "text/plain": [
       "<Figure size 800x500 with 1 Axes>"
      ]
     },
     "metadata": {},
     "output_type": "display_data"
    }
   ],
   "source": [
    "plot_model(gbr, plot='feature')"
   ]
  },
  {
   "cell_type": "code",
   "execution_count": 80,
   "metadata": {},
   "outputs": [
    {
     "name": "stdout",
     "output_type": "stream",
     "text": [
      "Transformation Pipeline and Model Succesfully Saved\n"
     ]
    },
    {
     "data": {
      "text/plain": [
       "(Pipeline(memory=None,\n",
       "          steps=[('dtypes',\n",
       "                  DataTypes_Auto_infer(categorical_features=[],\n",
       "                                       display_types=True, features_todrop=[],\n",
       "                                       id_columns=[], ml_usecase='regression',\n",
       "                                       numerical_features=[], target='charges',\n",
       "                                       time_features=[])),\n",
       "                 ('imputer',\n",
       "                  Simple_Imputer(categorical_strategy='not_available',\n",
       "                                 fill_value_categorical=None,\n",
       "                                 fill_value_numerical=None,\n",
       "                                 numeric_strategy...\n",
       "                                            learning_rate=0.1, loss='ls',\n",
       "                                            max_depth=3, max_features=None,\n",
       "                                            max_leaf_nodes=None,\n",
       "                                            min_impurity_decrease=0.0,\n",
       "                                            min_impurity_split=None,\n",
       "                                            min_samples_leaf=1,\n",
       "                                            min_samples_split=2,\n",
       "                                            min_weight_fraction_leaf=0.0,\n",
       "                                            n_estimators=100,\n",
       "                                            n_iter_no_change=None,\n",
       "                                            presort='deprecated',\n",
       "                                            random_state=123, subsample=1.0,\n",
       "                                            tol=0.0001, validation_fraction=0.1,\n",
       "                                            verbose=0, warm_start=False)]],\n",
       "          verbose=False),\n",
       " 'C:/Users/joshu/OneDrive/Desktop/progress/deployment_11062020.pkl')"
      ]
     },
     "execution_count": 80,
     "metadata": {},
     "output_type": "execute_result"
    }
   ],
   "source": [
    "save_model(gbr, 'C:/Users/joshu/OneDrive/Desktop/progress/deployment_11062020')"
   ]
  },
  {
   "cell_type": "code",
   "execution_count": 81,
   "metadata": {},
   "outputs": [
    {
     "name": "stdout",
     "output_type": "stream",
     "text": [
      "Transformation Pipeline and Model Successfully Loaded\n"
     ]
    }
   ],
   "source": [
    "deployment_11062020 = load_model('C:/Users/joshu/OneDrive/Desktop/progress/deployment_11062020')"
   ]
  },
  {
   "cell_type": "code",
   "execution_count": 82,
   "metadata": {},
   "outputs": [
    {
     "data": {
      "text/plain": [
       "Pipeline(memory=None,\n",
       "         steps=[('dtypes',\n",
       "                 DataTypes_Auto_infer(categorical_features=[],\n",
       "                                      display_types=True, features_todrop=[],\n",
       "                                      id_columns=[], ml_usecase='regression',\n",
       "                                      numerical_features=[], target='charges',\n",
       "                                      time_features=[])),\n",
       "                ('imputer',\n",
       "                 Simple_Imputer(categorical_strategy='not_available',\n",
       "                                fill_value_categorical=None,\n",
       "                                fill_value_numerical=None,\n",
       "                                numeric_strategy...\n",
       "                                           learning_rate=0.1, loss='ls',\n",
       "                                           max_depth=3, max_features=None,\n",
       "                                           max_leaf_nodes=None,\n",
       "                                           min_impurity_decrease=0.0,\n",
       "                                           min_impurity_split=None,\n",
       "                                           min_samples_leaf=1,\n",
       "                                           min_samples_split=2,\n",
       "                                           min_weight_fraction_leaf=0.0,\n",
       "                                           n_estimators=100,\n",
       "                                           n_iter_no_change=None,\n",
       "                                           presort='deprecated',\n",
       "                                           random_state=123, subsample=1.0,\n",
       "                                           tol=0.0001, validation_fraction=0.1,\n",
       "                                           verbose=0, warm_start=False)]],\n",
       "         verbose=False)"
      ]
     },
     "execution_count": 82,
     "metadata": {},
     "output_type": "execute_result"
    }
   ],
   "source": [
    "deployment_11062020"
   ]
  },
  {
   "cell_type": "code",
   "execution_count": null,
   "metadata": {
    "scrolled": true
   },
   "outputs": [],
   "source": []
  },
  {
   "cell_type": "code",
   "execution_count": null,
   "metadata": {},
   "outputs": [],
   "source": []
  }
 ],
 "metadata": {
  "kernelspec": {
   "display_name": "Python 3",
   "language": "python",
   "name": "python3"
  },
  "language_info": {
   "codemirror_mode": {
    "name": "ipython",
    "version": 3
   },
   "file_extension": ".py",
   "mimetype": "text/x-python",
   "name": "python",
   "nbconvert_exporter": "python",
   "pygments_lexer": "ipython3",
   "version": "3.8.3"
  }
 },
 "nbformat": 4,
 "nbformat_minor": 4
}
